{
  "cells": [
    {
      "cell_type": "code",
      "execution_count": 1,
      "metadata": {
        "id": "MshQh53NrVkr",
        "colab": {
          "base_uri": "https://localhost:8080/"
        },
        "outputId": "7aee0358-6314-4b43-e646-418e687a14ac"
      },
      "outputs": [
        {
          "output_type": "stream",
          "name": "stdout",
          "text": [
            "Successfully installed datasets-2.19.1 dill-0.3.8 huggingface-hub-0.23.0 multiprocess-0.70.16 xxhash-3.4.1\n"
          ]
        }
      ],
      "source": [
        "!pip install datasets\n",
        "import torch\n",
        "import torch.nn as nn\n",
        "import torch.nn.functional as F\n",
        "from transformers import AutoModelForCausalLM, AutoTokenizer, GPTNeoXConfig\n",
        "from datasets import load_dataset\n",
        "from torch.profiler import profile, record_function, ProfilerActivity\n",
        "from nltk.translate.bleu_score import sentence_bleu, SmoothingFunction\n",
        "import numpy as np\n",
        "import time\n",
        "from transformers.models.gpt_neox.modeling_gpt_neox import GPTNeoXLayer, GPTNeoXAttention, GPTNeoXForCausalLM, GPTNeoXModel\n",
        "import math\n",
        "from transformers.modeling_outputs import BaseModelOutputWithPastAndCrossAttentions"
      ]
    },
    {
      "cell_type": "code",
      "execution_count": null,
      "metadata": {
        "id": "9NnWw-4FrcIC"
      },
      "outputs": [],
      "source": [
        "model_name = \"EleutherAI/pythia-160m\"\n",
        "model = AutoModelForCausalLM.from_pretrained(model_name).cuda()\n",
        "tokenizer = AutoTokenizer.from_pretrained(model_name)"
      ]
    },
    {
      "cell_type": "code",
      "execution_count": 3,
      "metadata": {
        "colab": {
          "base_uri": "https://localhost:8080/"
        },
        "id": "tx_VhZLPDr5r",
        "outputId": "0dc4f3a4-04b6-4c31-f10a-f3866828781c"
      },
      "outputs": [
        {
          "output_type": "execute_result",
          "data": {
            "text/plain": [
              "GPTNeoXForCausalLM(\n",
              "  (gpt_neox): GPTNeoXModel(\n",
              "    (embed_in): Embedding(50304, 768)\n",
              "    (emb_dropout): Dropout(p=0.0, inplace=False)\n",
              "    (layers): ModuleList(\n",
              "      (0-11): 12 x GPTNeoXLayer(\n",
              "        (input_layernorm): LayerNorm((768,), eps=1e-05, elementwise_affine=True)\n",
              "        (post_attention_layernorm): LayerNorm((768,), eps=1e-05, elementwise_affine=True)\n",
              "        (post_attention_dropout): Dropout(p=0.0, inplace=False)\n",
              "        (post_mlp_dropout): Dropout(p=0.0, inplace=False)\n",
              "        (attention): GPTNeoXAttention(\n",
              "          (rotary_emb): GPTNeoXRotaryEmbedding()\n",
              "          (query_key_value): Linear(in_features=768, out_features=2304, bias=True)\n",
              "          (dense): Linear(in_features=768, out_features=768, bias=True)\n",
              "          (attention_dropout): Dropout(p=0.0, inplace=False)\n",
              "        )\n",
              "        (mlp): GPTNeoXMLP(\n",
              "          (dense_h_to_4h): Linear(in_features=768, out_features=3072, bias=True)\n",
              "          (dense_4h_to_h): Linear(in_features=3072, out_features=768, bias=True)\n",
              "          (act): GELUActivation()\n",
              "        )\n",
              "      )\n",
              "    )\n",
              "    (final_layer_norm): LayerNorm((768,), eps=1e-05, elementwise_affine=True)\n",
              "  )\n",
              "  (embed_out): Linear(in_features=768, out_features=50304, bias=False)\n",
              ")"
            ]
          },
          "metadata": {},
          "execution_count": 3
        }
      ],
      "source": [
        "model"
      ]
    },
    {
      "cell_type": "markdown",
      "source": [
        "Just some experimenting...trying to modify the GPTNeoXAttention with a customized one that mask a percentage of tokens."
      ],
      "metadata": {
        "id": "HKhehGnBlIwy"
      }
    },
    {
      "cell_type": "code",
      "execution_count": 18,
      "metadata": {
        "id": "I1-4nterg8EW"
      },
      "outputs": [],
      "source": [
        "class GPTNeoXAttentionWithPruning(GPTNeoXAttention):\n",
        "    def __init__(self, config):\n",
        "        super().__init__(config)\n",
        "\n",
        "    def top_k_tokens(self, attention_scores, k_percent):\n",
        "        \"\"\"\n",
        "        Mask tokens based on Top-K attention scores.\n",
        "        \"\"\"\n",
        "        k = int(attention_scores.size(-1) * k_percent)\n",
        "        top_k_scores, _ = torch.topk(attention_scores, k, dim=-1)\n",
        "        min_top_k_scores = top_k_scores[..., -1, None]\n",
        "        mask = attention_scores >= min_top_k_scores\n",
        "        #print(sum(mask))\n",
        "        return mask\n",
        "\n",
        "    def _attn(self, query, key, value, attention_mask=None, head_mask=None, k_percent=0.9):\n",
        "        batch_size, num_attention_heads, query_length, attn_head_size = query.size()\n",
        "        key_length = key.size(-2)\n",
        "\n",
        "        if key_length > self.bias.shape[-1]:\n",
        "            self._init_bias(key_length, device=key.device)\n",
        "        causal_mask = self.bias[:, :, key_length - query_length : key_length, :key_length]\n",
        "\n",
        "        query = query.view(batch_size * num_attention_heads, query_length, attn_head_size)\n",
        "        key = key.view(batch_size * num_attention_heads, key_length, attn_head_size)\n",
        "        attn_scores = torch.zeros(\n",
        "            batch_size * num_attention_heads,\n",
        "            query_length,\n",
        "            key_length,\n",
        "            dtype=query.dtype,\n",
        "            device=key.device,\n",
        "        )\n",
        "        attn_scores = torch.baddbmm(\n",
        "            attn_scores,\n",
        "            query,\n",
        "            key.transpose(1, 2),\n",
        "            beta=1.0,\n",
        "            alpha=self.norm_factor,\n",
        "        )\n",
        "        attn_scores = attn_scores.view(batch_size, num_attention_heads, query_length, key_length)\n",
        "\n",
        "        mask_value = torch.finfo(attn_scores.dtype).min\n",
        "        mask_value = torch.tensor(mask_value, dtype=attn_scores.dtype).to(attn_scores.device)\n",
        "        attn_scores = torch.where(causal_mask, attn_scores, mask_value)\n",
        "\n",
        "        if attention_mask is not None:\n",
        "            attn_scores = attn_scores + attention_mask\n",
        "\n",
        "        #reduction\n",
        "        token_mask = self.top_k_tokens(attn_scores, k_percent)\n",
        "        #print(token_mask)\n",
        "        attn_scores = attn_scores.masked_fill(~token_mask, mask_value)\n",
        "        #print(attn_scores)\n",
        "        attn_weights = nn.functional.softmax(attn_scores, dim=-1)\n",
        "\n",
        "        attn_weights = attn_weights.to(value.dtype)\n",
        "\n",
        "        if head_mask is not None:\n",
        "            attn_weights = attn_weights * head_mask\n",
        "\n",
        "        attn_weights = self.attention_dropout(attn_weights)\n",
        "\n",
        "        attn_output = torch.matmul(attn_weights, value)\n",
        "        return attn_output, attn_weights\n"
      ]
    },
    {
      "cell_type": "code",
      "execution_count": 19,
      "metadata": {
        "id": "zJpfghn0hCoC"
      },
      "outputs": [],
      "source": [
        "class GPTNeoXLayerWithPruning(GPTNeoXLayer):\n",
        "    def __init__(self, config):\n",
        "        super().__init__(config)\n",
        "        self.attention = GPTNeoXAttentionWithPruning(config)\n",
        "\n",
        "class CustomGPTNeoXModel(GPTNeoXModel):\n",
        "    def __init__(self, config):\n",
        "        super().__init__(config)\n",
        "        self.layers = nn.ModuleList([GPTNeoXLayerWithPruning(config) for _ in range(config.num_hidden_layers)])\n",
        "\n",
        "class CustomGPTNeoXForCausalLM(GPTNeoXForCausalLM):\n",
        "    def __init__(self, config):\n",
        "        super().__init__(config)\n",
        "        self.gpt_neox = CustomGPTNeoXModel(config)\n"
      ]
    },
    {
      "cell_type": "code",
      "execution_count": 20,
      "metadata": {
        "id": "zZYpOs3rhNya"
      },
      "outputs": [],
      "source": [
        "tokenizer.add_special_tokens({'pad_token': '[PAD]'})\n",
        "config = GPTNeoXConfig.from_pretrained(model_name)\n",
        "model = AutoModelForCausalLM.from_pretrained(model_name, config=config)\n",
        "model.resize_token_embeddings((len(tokenizer) + 7) // 8 * 8)\n",
        "model.to('cuda')\n",
        "\n",
        "#preprocessing for the dataset\n",
        "def preprocess(example):\n",
        "    return tokenizer(example[\"text\"], padding=\"max_length\", truncation=True, max_length=128)\n",
        "\n",
        "#apply preprocessing to dataset\n",
        "dataset = load_dataset(\"ag_news\", split=\"test[:1%]\")\n",
        "def preprocess(example):\n",
        "    return tokenizer(example[\"text\"], padding=\"max_length\", truncation=True, max_length=128)\n",
        "\n",
        "dataset = dataset.map(preprocess, batched=True)\n",
        "\n",
        "input_ids_list = [torch.tensor(item['input_ids']) for item in dataset]\n",
        "input_ids = torch.stack(input_ids_list).cuda()\n",
        "attention_masks = torch.stack([torch.tensor(item['attention_mask']) for item in dataset]).cuda()\n",
        "\n",
        "#generate autoregressive way taking count of execution time\n",
        "def generate_autoregressively(model, tokenizer, input_ids, attention_mask, max_new_tokens=20):\n",
        "    model.eval()\n",
        "    with torch.no_grad():\n",
        "        start_time = time.time()\n",
        "        generated_ids = model.generate(input_ids=input_ids, attention_mask=attention_mask, max_new_tokens=max_new_tokens, pad_token_id=tokenizer.eos_token_id)\n",
        "        end_time = time.time()\n",
        "        generated_text = tokenizer.decode(generated_ids[0], skip_special_tokens=True)\n",
        "        execution_time = end_time - start_time\n",
        "    return generated_text, execution_time\n",
        "\n",
        "#just using pythia\n",
        "baseline_generated_texts = []\n",
        "baseline_times = []\n",
        "for i in range(input_ids.size(0)):\n",
        "    single_input_ids = input_ids[i:i+1]\n",
        "    single_attention_mask = attention_masks[i:i+1]\n",
        "    generated_text, single_execution_time = generate_autoregressively(model, tokenizer, single_input_ids, single_attention_mask, max_new_tokens=20)\n",
        "    baseline_generated_texts.append(generated_text)\n",
        "    baseline_times.append(single_execution_time)"
      ]
    },
    {
      "cell_type": "code",
      "source": [
        "#let's test now the customized version\n",
        "custom_tokenizer = AutoTokenizer.from_pretrained(model_name)\n",
        "custom_tokenizer.add_special_tokens({'pad_token': '[PAD]'})\n",
        "custom_config = GPTNeoXConfig.from_pretrained(model_name)\n",
        "custom_model = CustomGPTNeoXForCausalLM.from_pretrained(model_name, config=custom_config)\n",
        "custom_model.resize_token_embeddings((len(custom_tokenizer) + 7) // 8 * 8)\n",
        "custom_model.to('cuda')\n",
        "\n",
        "# Apply preprocessing to dataset using custom tokenizer\n",
        "custom_input_ids_list = [torch.tensor(item['input_ids']) for item in dataset]\n",
        "custom_input_ids = torch.stack(custom_input_ids_list).cuda()\n",
        "custom_attention_masks = torch.stack([torch.tensor(item['attention_mask']) for item in dataset]).cuda()\n",
        "\n",
        "# Test with custom model\n",
        "custom_generated_texts = []\n",
        "custom_times = []\n",
        "for i in range(custom_input_ids.size(0)):\n",
        "    single_input_ids = custom_input_ids[i:i+1]\n",
        "    single_attention_mask = custom_attention_masks[i:i+1]\n",
        "    generated_text, single_execution_time = generate_autoregressively(custom_model, custom_tokenizer, single_input_ids, single_attention_mask, max_new_tokens=20)\n",
        "    custom_generated_texts.append(generated_text)\n",
        "    custom_times.append(single_execution_time)\n",
        "\n",
        "#print(\"Baseline Model Results:\")\n",
        "#for text, time_taken in zip(baseline_generated_texts, baseline_times):\n",
        "#    print(f\"Generated Text: {text}\")\n",
        "#    print(f\"Time Taken: {time_taken:.4f} seconds\")\n",
        "#\n",
        "\n",
        "#print(\"\\nCustom Model Results:\")\n",
        "#for text, time_taken in zip(custom_generated_texts, custom_times):\n",
        "#    print(f\"Generated Text: {text}\")\n",
        "#    print(f\"Time Taken: {time_taken:.4f} seconds\")\n"
      ],
      "metadata": {
        "colab": {
          "base_uri": "https://localhost:8080/"
        },
        "id": "X3X8BQiVjVRw",
        "outputId": "ec3a1e6c-173d-4dd2-d4de-1fe45a6c2810"
      },
      "execution_count": 21,
      "outputs": [
        {
          "output_type": "stream",
          "name": "stderr",
          "text": [
            "Special tokens have been added in the vocabulary, make sure the associated word embeddings are fine-tuned or trained.\n"
          ]
        }
      ]
    },
    {
      "cell_type": "code",
      "execution_count": 9,
      "metadata": {
        "colab": {
          "base_uri": "https://localhost:8080/"
        },
        "id": "jWYUTHGWrpJc",
        "outputId": "c1083ad6-220d-4d47-a421-6dc12d222f9e"
      },
      "outputs": [
        {
          "output_type": "stream",
          "name": "stdout",
          "text": [
            "27.010892391204834 34.501551389694214\n"
          ]
        }
      ],
      "source": [
        "print(sum(custom_times), sum(baseline_times))"
      ]
    },
    {
      "cell_type": "markdown",
      "source": [
        "It seems to be more efficient, but the results are a bit too similar, I will need to check if the mask is correctly done, if is really computationally cheaper and if the [PAD] tokens are considered during the topk selection"
      ],
      "metadata": {
        "id": "ffoCC4_9l8ou"
      }
    },
    {
      "cell_type": "code",
      "execution_count": 23,
      "metadata": {
        "colab": {
          "base_uri": "https://localhost:8080/"
        },
        "id": "IvzqJZrojXhr",
        "outputId": "9cb3027a-0f58-428b-d16a-1cf2d1312a0a"
      },
      "outputs": [
        {
          "output_type": "stream",
          "name": "stdout",
          "text": [
            "Calif. Aims to Limit Farm-Related Smog (AP) AP - Southern California's smog-fighting agency went after emissions of the bovine variety Friday, adopting the nation's first rules to reduce air pollution from dairy cow manure.- AP\n",
            "\n",
            "The agency's new rules, which are expected to be finalized by the end\n"
          ]
        }
      ],
      "source": [
        "print(custom_generated_texts[4])"
      ]
    },
    {
      "cell_type": "code",
      "execution_count": 24,
      "metadata": {
        "colab": {
          "base_uri": "https://localhost:8080/"
        },
        "id": "f1wH6ZT4jY5Y",
        "outputId": "cbe1aa2b-176f-4887-ed2f-121fa2b17504"
      },
      "outputs": [
        {
          "output_type": "stream",
          "name": "stdout",
          "text": [
            "Calif. Aims to Limit Farm-Related Smog (AP) AP - Southern California's smog-fighting agency went after emissions of the bovine variety Friday, adopting the nation's first rules to reduce air pollution from dairy cow manure.- AP\n",
            "\n",
            "The agency's new rules, which are expected to be finalized by the end\n"
          ]
        }
      ],
      "source": [
        "print(baseline_generated_texts[4])"
      ]
    },
    {
      "cell_type": "markdown",
      "source": [
        "Let's try to implement how usually is performed the reduction. The attention between the spatial tokens and the CLS token is used."
      ],
      "metadata": {
        "id": "SV82cvfvlEwX"
      }
    },
    {
      "cell_type": "code",
      "execution_count": 27,
      "metadata": {
        "id": "IS3cKh6EjaID"
      },
      "outputs": [],
      "source": [
        "class GPTNeoXAttentionWithPruning(GPTNeoXAttention):\n",
        "    def top_k_pruning(self, cls_scores, k_percent):\n",
        "        k = int(cls_scores.size(-1) * k_percent)\n",
        "        top_k_scores, _ = torch.topk(cls_scores, k, dim=-1, largest=False)\n",
        "        min_top_k_scores = top_k_scores[..., -1, None]\n",
        "        mask = cls_scores <= min_top_k_scores\n",
        "        return mask\n",
        "\n",
        "    def _attn(self, query, key, value, attention_mask=None, head_mask=None, k_percent=0.1):\n",
        "        batch_size, num_attention_heads, query_length, attn_head_size = query.size()\n",
        "        key_length = key.size(-2)\n",
        "\n",
        "        if key_length > self.bias.shape[-1]:\n",
        "            self._init_bias(key_length, device=key.device)\n",
        "        causal_mask = self.bias[:, :, key_length - query_length : key_length, :key_length]\n",
        "\n",
        "        query = query.view(batch_size * num_attention_heads, query_length, attn_head_size)\n",
        "        key = key.view(batch_size * num_attention_heads, key_length, attn_head_size)\n",
        "        attn_scores = torch.baddbmm(\n",
        "            torch.zeros(\n",
        "                batch_size * num_attention_heads,\n",
        "                query_length,\n",
        "                key_length,\n",
        "                dtype=query.dtype,\n",
        "                device=key.device,\n",
        "            ),\n",
        "            query,\n",
        "            key.transpose(1, 2),\n",
        "            beta=1.0,\n",
        "            alpha=self.norm_factor,\n",
        "        )\n",
        "        attn_scores = attn_scores.view(batch_size, num_attention_heads, query_length, key_length)\n",
        "\n",
        "        mask_value = torch.finfo(attn_scores.dtype).min\n",
        "        mask_value = torch.tensor(mask_value, dtype=attn_scores.dtype).to(attn_scores.device)\n",
        "        attn_scores = torch.where(causal_mask, attn_scores, mask_value)\n",
        "\n",
        "        if attention_mask is not None:\n",
        "            attn_scores = attn_scores + attention_mask\n",
        "\n",
        "        cls_scores = attn_scores[:, :, 0, :]\n",
        "\n",
        "        token_mask = self.top_k_pruning(cls_scores, k_percent)\n",
        "\n",
        "        token_mask = token_mask.unsqueeze(2).expand(batch_size, num_attention_heads, query_length, key_length)\n",
        "        attn_scores = attn_scores.masked_fill(~token_mask, mask_value)\n",
        "        attn_weights = F.softmax(attn_scores, dim=-1)\n",
        "        attn_weights = attn_weights.to(value.dtype)\n",
        "\n",
        "        if head_mask is not None:\n",
        "            attn_weights = attn_weights * head_mask\n",
        "\n",
        "        attn_weights = self.attention_dropout(attn_weights)\n",
        "        attn_output = torch.matmul(attn_weights, value)\n",
        "\n",
        "        return attn_output, attn_weights, token_mask\n",
        "\n",
        "    def forward(self, hidden_states, attention_mask=None, head_mask=None, layer_past=None, use_cache=False, output_attentions=False, k_percent=0.1):\n",
        "        qkv = self.query_key_value(hidden_states)\n",
        "\n",
        "        query, key, value = torch.chunk(qkv, 3, dim=-1)\n",
        "\n",
        "        query = self._split_heads(query, self.num_attention_heads, self.head_size)\n",
        "        key = self._split_heads(key, self.num_attention_heads, self.head_size)\n",
        "        value = self._split_heads(value, self.num_attention_heads, self.head_size)\n",
        "\n",
        "        attn_output, attn_weights, token_mask = self._attn(query, key, value, attention_mask, head_mask, k_percent)\n",
        "        attn_output = self._merge_heads(attn_output, self.num_attention_heads, self.head_size)\n",
        "\n",
        "        attn_output = self.dense(attn_output)\n",
        "\n",
        "        outputs = (attn_output, attn_weights) if output_attentions else (attn_output,)\n",
        "        return outputs, token_mask\n",
        "\n",
        "class GPTNeoXLayerWithPruning(GPTNeoXLayer):\n",
        "    def __init__(self, config):\n",
        "        super().__init__(config)\n",
        "        self.attention = GPTNeoXAttentionWithPruning(config)\n",
        "\n",
        "    def forward(\n",
        "        self,\n",
        "        hidden_states,\n",
        "        attention_mask=None,\n",
        "        head_mask=None,\n",
        "        layer_past=None,\n",
        "        use_cache=False,\n",
        "        output_attentions=False,\n",
        "        token_mask=None,\n",
        "        **kwargs\n",
        "    ):\n",
        "        residual = hidden_states\n",
        "        hidden_states = self.input_layernorm(hidden_states)\n",
        "\n",
        "        layer_past = layer_past or [None, None]\n",
        "\n",
        "        attn_outputs, token_mask = self.attention(\n",
        "            hidden_states,\n",
        "            attention_mask=attention_mask,\n",
        "            head_mask=head_mask,\n",
        "            layer_past=layer_past,\n",
        "            use_cache=use_cache,\n",
        "            output_attentions=output_attentions,\n",
        "            k_percent=0.1\n",
        "        )\n",
        "\n",
        "        attn_output = attn_outputs[0]\n",
        "        attn_weights = attn_outputs[1] if len(attn_outputs) > 1 else None\n",
        "\n",
        "        if use_cache:\n",
        "            present = (attn_outputs[1], layer_past)\n",
        "        else:\n",
        "            present = None\n",
        "\n",
        "        hidden_states = attn_output + residual\n",
        "\n",
        "        residual = hidden_states\n",
        "        hidden_states = self.post_attention_layernorm(hidden_states)\n",
        "        hidden_states = self.mlp(hidden_states)\n",
        "\n",
        "        hidden_states = hidden_states + residual\n",
        "\n",
        "        outputs = (hidden_states, present)\n",
        "        if output_attentions:\n",
        "            outputs += (attn_weights,)\n",
        "\n",
        "        return outputs, token_mask\n",
        "\n",
        "class CustomGPTNeoXModel(GPTNeoXModel):\n",
        "    def __init__(self, config):\n",
        "        super().__init__(config)\n",
        "        self.layers = nn.ModuleList([GPTNeoXLayerWithPruning(config) for _ in range(config.num_hidden_layers)])\n",
        "        self.final_layernorm = nn.LayerNorm(config.hidden_size, eps=config.layer_norm_eps)\n",
        "\n",
        "    def forward(self, input_ids, attention_mask=None, head_mask=None, inputs_embeds=None, output_attentions=None, output_hidden_states=None, return_dict=None, use_cache=None, **kwargs):\n",
        "        if inputs_embeds is None:\n",
        "            inputs_embeds = self.embed_in(input_ids)\n",
        "\n",
        "        hidden_states = inputs_embeds\n",
        "\n",
        "        all_hidden_states = () if output_hidden_states else None\n",
        "        all_attentions = () if output_attentions else None\n",
        "        next_decoder_cache = () if use_cache else None\n",
        "\n",
        "        token_mask = None\n",
        "        for idx, layer in enumerate(self.layers):\n",
        "            if output_hidden_states:\n",
        "                all_hidden_states = all_hidden_states + (hidden_states,)\n",
        "\n",
        "            layer_outputs, token_mask = layer(\n",
        "                hidden_states,\n",
        "                attention_mask,\n",
        "                head_mask=head_mask[idx] if head_mask is not None else None,\n",
        "                layer_past=next_decoder_cache[idx] if next_decoder_cache is not None else None,\n",
        "                use_cache=use_cache,\n",
        "                output_attentions=output_attentions,\n",
        "                token_mask=token_mask,\n",
        "            )\n",
        "\n",
        "            hidden_states = layer_outputs[0]\n",
        "\n",
        "            if use_cache:\n",
        "                next_decoder_cache += (layer_outputs[1],)\n",
        "            if output_attentions:\n",
        "                all_attentions = all_attentions + (layer_outputs[2],)\n",
        "\n",
        "        hidden_states = self.final_layernorm(hidden_states)\n",
        "\n",
        "        if output_hidden_states:\n",
        "            all_hidden_states = all_hidden_states + (hidden_states,)\n",
        "\n",
        "        if not return_dict:\n",
        "            return tuple(v for v in [hidden_states, next_decoder_cache, all_hidden_states, all_attentions] if v is not None)\n",
        "\n",
        "        return BaseModelOutputWithPastAndCrossAttentions(\n",
        "            last_hidden_state=hidden_states,\n",
        "            past_key_values=next_decoder_cache,\n",
        "            hidden_states=all_hidden_states,\n",
        "            attentions=all_attentions,\n",
        "        )\n",
        "\n",
        "class CustomGPTNeoXForCausalLM(GPTNeoXForCausalLM):\n",
        "    def __init__(self, config):\n",
        "        super().__init__(config)\n",
        "        self.gpt_neox = CustomGPTNeoXModel(config)"
      ]
    },
    {
      "cell_type": "code",
      "source": [
        "tokenizer.padding_side = \"left\"\n",
        "tokenizer.pad_token = tokenizer.eos_token\n",
        "config.num_hidden_layers = 12\n",
        "custom_model = CustomGPTNeoXForCausalLM.from_pretrained(model_name, config=config).cuda()\n",
        "\n",
        "print(custom_model)\n",
        "# add CLS token\n",
        "if tokenizer.cls_token is None:\n",
        "    tokenizer.add_special_tokens({'cls_token': '[CLS]'})\n",
        "    custom_model.resize_token_embeddings(len(tokenizer))\n",
        "\n",
        "def preprocess(example):\n",
        "    text = example[\"text\"]\n",
        "    inputs = tokenizer(text, padding=\"max_length\", truncation=True, max_length=128, return_tensors=\"pt\")\n",
        "    inputs['input_ids'][0, 0] = tokenizer.cls_token_id\n",
        "    return {\n",
        "        'input_ids': inputs['input_ids'][0].tolist(),\n",
        "        'attention_mask': inputs['attention_mask'][0].tolist()\n",
        "    }\n",
        "\n",
        "dataset = load_dataset(\"ag_news\", split=\"test[:1%]\")\n",
        "\n",
        "input_ids_list = []\n",
        "attention_masks_list = []\n",
        "\n",
        "for example in dataset:\n",
        "    processed = preprocess(example)\n",
        "    input_ids_list.append(processed['input_ids'])\n",
        "    attention_masks_list.append(processed['attention_mask'])\n",
        "\n",
        "input_ids = torch.tensor(input_ids_list).cuda()\n",
        "attention_masks = torch.tensor(attention_masks_list).cuda()\n",
        "\n",
        "custom_generated_texts = []\n",
        "custom_times = []\n",
        "for i in range(input_ids.size(0)):\n",
        "    single_input_ids = input_ids[i:i+1]\n",
        "    single_attention_mask = attention_masks[i:i+1]\n",
        "    generated_text, single_execution_time = generate_autoregressively(custom_model, tokenizer, single_input_ids, single_attention_mask, max_new_tokens=20)\n",
        "    custom_generated_texts.append(generated_text)\n",
        "    custom_times.append(single_execution_time)\n",
        "\n",
        "print(\"\\nCustom Model Results:\")\n",
        "for text, time_taken in zip(custom_generated_texts, custom_times):\n",
        "    print(f\"Generated Text: {text}\")"
      ],
      "metadata": {
        "id": "oMNHyL_UnGBF"
      },
      "execution_count": null,
      "outputs": []
    },
    {
      "cell_type": "code",
      "source": [
        "sum(custom_times)"
      ],
      "metadata": {
        "colab": {
          "base_uri": "https://localhost:8080/"
        },
        "id": "BYjjehtbniYS",
        "outputId": "163e41a4-e170-4cc0-daa1-7dc38e3db0fb"
      },
      "execution_count": 30,
      "outputs": [
        {
          "output_type": "execute_result",
          "data": {
            "text/plain": [
              "40.7024359703064"
            ]
          },
          "metadata": {},
          "execution_count": 30
        }
      ]
    },
    {
      "cell_type": "markdown",
      "source": [
        "not working...."
      ],
      "metadata": {
        "id": "cefCpkKKnz-8"
      }
    }
  ],
  "metadata": {
    "accelerator": "GPU",
    "colab": {
      "gpuType": "T4",
      "provenance": []
    },
    "kernelspec": {
      "display_name": "Python 3",
      "name": "python3"
    },
    "language_info": {
      "name": "python"
    }
  },
  "nbformat": 4,
  "nbformat_minor": 0
}