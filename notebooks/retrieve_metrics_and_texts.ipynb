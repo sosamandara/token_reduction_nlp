{
  "cells": [
    {
      "cell_type": "markdown",
      "metadata": {
        "id": "PLIZvR5AtEk2"
      },
      "source": [
        "notebook runnable in colab"
      ]
    },
    {
      "cell_type": "code",
      "execution_count": 1,
      "metadata": {
        "colab": {
          "base_uri": "https://localhost:8080/"
        },
        "id": "Vsjgq8e2l-gn",
        "outputId": "72dda0d6-e21d-4fd6-fbc4-7b42f53c7cfb"
      },
      "outputs": [
        {
          "name": "stdout",
          "output_type": "stream",
          "text": [
            "Cloning into 'token_reduction_nlp'...\n",
            "remote: Enumerating objects: 60, done.\u001b[K\n",
            "remote: Counting objects: 100% (60/60), done.\u001b[K\n",
            "remote: Compressing objects: 100% (46/46), done.\u001b[K\n",
            "remote: Total 60 (delta 21), reused 44 (delta 11), pack-reused 0\u001b[K\n",
            "Receiving objects: 100% (60/60), 315.38 KiB | 7.01 MiB/s, done.\n",
            "Resolving deltas: 100% (21/21), done.\n"
          ]
        }
      ],
      "source": [
        "!git clone https://github.com/sosamandara/token_reduction_nlp.git"
      ]
    },
    {
      "cell_type": "code",
      "execution_count": 2,
      "metadata": {
        "colab": {
          "base_uri": "https://localhost:8080/"
        },
        "id": "VOLKdt52cVUy",
        "outputId": "c6a44dbe-c500-43e2-871f-6d8638da9819"
      },
      "outputs": [
        {
          "name": "stdout",
          "output_type": "stream",
          "text": [
            "/content/token_reduction_nlp\n"
          ]
        }
      ],
      "source": [
        "%cd /content/token_reduction_nlp"
      ]
    },
    {
      "cell_type": "markdown",
      "metadata": {
        "id": "TxnwVNTFL9uy"
      },
      "source": [
        "# Time and Flops"
      ]
    },
    {
      "cell_type": "code",
      "execution_count": 1,
      "metadata": {},
      "outputs": [
        {
          "name": "stdout",
          "output_type": "stream",
          "text": [
            "Current directory: d:\\TESI\\token_reduction_nlp\\notebooks\n",
            "Project root directory: d:\\TESI\\token_reduction_nlp\n",
            "Models directory added to sys.path: True\n",
            "Src directory added to sys.path: True\n"
          ]
        }
      ],
      "source": [
        "import sys\n",
        "import os\n",
        "\n",
        "# Get the current working directory\n",
        "current_dir = os.getcwd()\n",
        "\n",
        "# Assuming the notebooks are in the notebooks directory and executed from there\n",
        "project_root = os.path.abspath(os.path.join(current_dir, '..'))\n",
        "\n",
        "# Add the models and src directories to the Python path\n",
        "models_dir = os.path.join(project_root, 'models')\n",
        "src_dir = os.path.join(project_root, 'src')\n",
        "\n",
        "sys.path.append(models_dir)\n",
        "sys.path.append(src_dir)\n",
        "\n",
        "# Verify that the paths are correctly added\n",
        "print(\"Current directory:\", current_dir)\n",
        "print(\"Project root directory:\", project_root)\n",
        "print(\"Models directory added to sys.path:\", models_dir in sys.path)\n",
        "print(\"Src directory added to sys.path:\", src_dir in sys.path)"
      ]
    },
    {
      "cell_type": "code",
      "execution_count": 2,
      "metadata": {
        "id": "43fOrsF-tVHP"
      },
      "outputs": [],
      "source": [
        "!pip install datasets\n",
        "from transformers import GPT2Tokenizer, GPT2LMHeadModel, GPT2Config, AutoTokenizer, AutoModel\n",
        "from modeling_topK_gpt2 import CustomGPT2LMHeadModel\n",
        "import json\n",
        "from collections import defaultdict\n",
        "import matplotlib.pyplot as plt\n",
        "from datasets import load_dataset\n",
        "from functions import run_generation_on_dataset, plot_averages\n",
        "from perplexity import evaluate_perplexity\n",
        "from sklearn.metrics.pairwise import cosine_similarity\n",
        "import numpy as np\n",
        "import torch\n",
        "from tqdm import tqdm\n",
        "import pandas as pd"
      ]
    },
    {
      "cell_type": "code",
      "execution_count": 3,
      "metadata": {
        "id": "E4r_IrRQ81Y2"
      },
      "outputs": [
        {
          "name": "stderr",
          "output_type": "stream",
          "text": [
            "Found cached dataset parquet (C:/Users/Angelo/.cache/huggingface/datasets/parquet/ag_news-f4012edcb412d6fa/0.0.0/2a3b91fbd88a2c90d1dbbb32b460cf621d31bd5b05b934492fdef7d8d6f236ec)\n"
          ]
        },
        {
          "data": {
            "application/vnd.jupyter.widget-view+json": {
              "model_id": "3ae609416bd2483cae59d5fe70f77ca9",
              "version_major": 2,
              "version_minor": 0
            },
            "text/plain": [
              "  0%|          | 0/2 [00:00<?, ?it/s]"
            ]
          },
          "metadata": {},
          "output_type": "display_data"
        },
        {
          "data": {
            "text/plain": [
              "DatasetDict({\n",
              "    train: Dataset({\n",
              "        features: ['text', 'label'],\n",
              "        num_rows: 120000\n",
              "    })\n",
              "    test: Dataset({\n",
              "        features: ['text', 'label'],\n",
              "        num_rows: 7600\n",
              "    })\n",
              "})"
            ]
          },
          "execution_count": 3,
          "metadata": {},
          "output_type": "execute_result"
        }
      ],
      "source": [
        "dataset = load_dataset(\"ag_news\")\n",
        "dataset"
      ]
    },
    {
      "cell_type": "markdown",
      "metadata": {
        "id": "ZrYBxEeYXdnR"
      },
      "source": [
        "# Run and save the files"
      ]
    },
    {
      "cell_type": "code",
      "execution_count": null,
      "metadata": {
        "id": "V91QVxdseNhb"
      },
      "outputs": [],
      "source": [
        "model_name = \"gpt2\"\n",
        "tokenizer = GPT2Tokenizer.from_pretrained(model_name)\n",
        "config = GPT2Config.from_pretrained(model_name)\n",
        "model_gpt = GPT2LMHeadModel.from_pretrained(model_name, config=config)\n",
        "model_gpt.to('cuda')\n",
        "\n",
        "results_gpt = run_generation_on_dataset(dataset, model_gpt, tokenizer, 50, [10, 20, 30, 50, 100, 200, 300], \"custom_model_50_with_flops\")"
      ]
    },
    {
      "cell_type": "code",
      "execution_count": null,
      "metadata": {
        "id": "dI_Dl3HXeVsK"
      },
      "outputs": [],
      "source": [
        "model_name = \"gpt2\"\n",
        "tokenizer = GPT2Tokenizer.from_pretrained(model_name)\n",
        "config = GPT2Config.from_pretrained(model_name)\n",
        "custom_model = CustomGPT2LMHeadModel.from_pretrained(model_name, config=config, k_percent=[0.0, 0.0, 0.2, 0.2, 0.2, 0.15, 0.2, 0.2, 0.05, 0.05, 0.0, 0.05],\n",
        "                                                     layers_to_prune=[0, 1, 2,3, 4, 5, 6,7,8,9,10,11])\n",
        "custom_model.to('cuda')\n",
        "\n",
        "results_custom = run_generation_on_dataset(dataset, custom_model, tokenizer, 50, [10, 20, 30, 50, 100, 200, 300], \"model_gpt_2_50_with_flops\")"
      ]
    },
    {
      "cell_type": "markdown",
      "metadata": {
        "id": "awLFeVqDXgV2"
      },
      "source": [
        "# Obtain metrics"
      ]
    },
    {
      "cell_type": "code",
      "execution_count": 9,
      "metadata": {
        "colab": {
          "base_uri": "https://localhost:8080/",
          "height": 564
        },
        "id": "NusZDsY_VaOW",
        "outputId": "a198c7f6-808a-4ffb-d958-6d8c1df68a16"
      },
      "outputs": [
        {
          "data": {
            "image/png": "[encoded data removed]",
            "text/plain": [
              "<Figure size 1000x600 with 1 Axes>"
            ]
          },
          "metadata": {},
          "output_type": "display_data"
        }
      ],
      "source": [
        "# Construct the paths to the JSON files\n",
        "project_root = os.path.abspath(os.path.join(current_dir, '..'))\n",
        "results_dir = os.path.join(project_root, 'results')\n",
        "\n",
        "custom_model_path = os.path.join(results_dir, 'generation_results_custom_model_50_with_flops.json')\n",
        "gpt2_model_path = os.path.join(results_dir, 'generation_results_model_gpt_2_50_with_flops.json')\n",
        "\n",
        "# Load the results from JSON files\n",
        "with open(custom_model_path, 'r') as f:\n",
        "    custom_model_results = json.load(f)\n",
        "\n",
        "with open(gpt2_model_path, 'r') as f:\n",
        "    gpt2_model_results = json.load(f)\n",
        "\n",
        "figsize = (10, 6)\n",
        "\n",
        "# plot average times\n",
        "plot_averages(custom_model_results, gpt2_model_results, key=\"time_taken\", ylabel='Average Time (s)', title='Average Generation Time by Length for TopK Model vs GPT-2 Model', figsize=figsize)"
      ]
    },
    {
      "cell_type": "code",
      "execution_count": 10,
      "metadata": {
        "colab": {
          "base_uri": "https://localhost:8080/",
          "height": 564
        },
        "id": "lJq3peeRVu7g",
        "outputId": "4b76db02-2ebb-41d2-ca2c-583ead19dcc3"
      },
      "outputs": [
        {
          "data": {
            "image/png": "[encoded data removed]",
            "text/plain": [
              "<Figure size 1000x600 with 1 Axes>"
            ]
          },
          "metadata": {},
          "output_type": "display_data"
        }
      ],
      "source": [
        "# plot average FLOPs\n",
        "plot_averages(custom_model_results, gpt2_model_results, key=\"flops\", ylabel='Average FLOPs', title='Average Generation FLOPs by Length for TopK Model vs GPT-2 Model', figsize=figsize)"
      ]
    },
    {
      "cell_type": "markdown",
      "metadata": {
        "id": "PSS7808LL9u2"
      },
      "source": [
        "# BertScore"
      ]
    },
    {
      "cell_type": "code",
      "execution_count": 11,
      "metadata": {
        "colab": {
          "base_uri": "https://localhost:8080/"
        },
        "id": "poS_ixA-L9u3",
        "outputId": "7c1ae614-467e-4a58-c545-05affadb2ef5"
      },
      "outputs": [
        {
          "data": {
            "text/plain": [
              "0.76342946"
            ]
          },
          "execution_count": 11,
          "metadata": {},
          "output_type": "execute_result"
        }
      ],
      "source": [
        "# initialize BERT tokenizer and model\n",
        "tokenizer = AutoTokenizer.from_pretrained('bert-base-uncased')\n",
        "model = AutoModel.from_pretrained('bert-base-uncased')\n",
        "\n",
        "# function to get BERT embeddings\n",
        "def get_bert_embeddings(text):\n",
        "    inputs = tokenizer(text, return_tensors='pt', max_length=512, truncation=True)\n",
        "    outputs = model(**inputs)\n",
        "    embeddings = outputs.last_hidden_state.mean(dim=1)\n",
        "    return embeddings.detach().numpy()\n",
        "\n",
        "gpt2_generated_embeddings = []\n",
        "custom_generated_embeddings = []\n",
        "\n",
        "for result in gpt2_model_results:\n",
        "    generated_text = result['generated_text']\n",
        "    embedding = get_bert_embeddings(generated_text)\n",
        "    gpt2_generated_embeddings.append(embedding)\n",
        "\n",
        "for result in custom_model_results:\n",
        "    generated_text = result['generated_text']\n",
        "    embedding = get_bert_embeddings(generated_text)\n",
        "    custom_generated_embeddings.append(embedding)\n",
        "\n",
        "gpt2_generated_embeddings = np.vstack(gpt2_generated_embeddings)\n",
        "custom_generated_embeddings = np.vstack(custom_generated_embeddings)\n",
        "\n",
        "similarities = []\n",
        "\n",
        "for gpt2_emb, custom_emb in zip(gpt2_generated_embeddings, custom_generated_embeddings):\n",
        "    similarity = cosine_similarity([gpt2_emb], [custom_emb]).mean()\n",
        "    similarities.append(similarity)\n",
        "\n",
        "average_similarity = np.mean(similarities)\n",
        "average_similarity"
      ]
    },
    {
      "cell_type": "markdown",
      "metadata": {
        "id": "ID_dd1WIL9u3"
      },
      "source": [
        "# bert_score"
      ]
    },
    {
      "cell_type": "code",
      "execution_count": null,
      "metadata": {
        "colab": {
          "base_uri": "https://localhost:8080/"
        },
        "id": "CjxCdgo0L9u3",
        "outputId": "072b63fa-a7af-4187-dcd4-5f8f855c9561"
      },
      "outputs": [
        {
          "name": "stdout",
          "output_type": "stream",
          "text": [
            "Successfully installed bert_score-0.3.13 nvidia-cublas-cu12-12.1.3.1 nvidia-cuda-cupti-cu12-12.1.105 nvidia-cuda-nvrtc-cu12-12.1.105 nvidia-cuda-runtime-cu12-12.1.105 nvidia-cudnn-cu12-8.9.2.26 nvidia-cufft-cu12-11.0.2.54 nvidia-curand-cu12-10.3.2.106 nvidia-cusolver-cu12-11.4.5.107 nvidia-cusparse-cu12-12.1.0.106 nvidia-nccl-cu12-2.20.5 nvidia-nvjitlink-cu12-12.5.40 nvidia-nvtx-cu12-12.1.105\n"
          ]
        }
      ],
      "source": [
        "!pip install transformers torch bert_score"
      ]
    },
    {
      "cell_type": "code",
      "execution_count": null,
      "metadata": {
        "colab": {
          "base_uri": "https://localhost:8080/",
          "height": 237,
          "referenced_widgets": [
            "4ea15a04cdfa44c691cf76ff4174932b",
            "9124210b547642b3b5cd151d901dbf74",
            "0379e42adc2446e9953bfc1c3839484f",
            "b73fa34eed7d4e488bbd30571752aa8f",
            "21a2ebc530ba4c159c5e64e1735bbb07",
            "60dd26a19084482081158f2a9836c324",
            "db7205ad91174646bab4cbb19f2b68f0",
            "eec8b2fa9af14572b34fe6ee925451c9",
            "6b45f3a753e04e48850b799604e692e8",
            "eca7f5057dc74c7f8a1b4d69192e3d0a",
            "bdd76f3e47fa4d398a8b654d8015708c",
            "ad2d0dd3b17e4ae890f31c6b844ab154",
            "1998d976fe6c47c781d8245c226bec00",
            "12b32ec2fb43457098bef5f9039fc380",
            "bfb958e4b14849959dd74c2ff869249e",
            "9e0ef4cc5cf84366866cda03696f13ba",
            "b31f36c9d0a74679817bda0ac7422f15",
            "7e5e84520b844926a550f66e6783df96",
            "7a79e9a2497c4c7a9817ccf2be210726",
            "fb1f185bf5714d7ea28fdef776e86229",
            "c92ae946e46f42229d8a0fb817b626fc",
            "c531cd352d04458a8ffe8a1d61d373e3"
          ]
        },
        "id": "44gDgmXrL9u4",
        "outputId": "46aa752f-128f-4e24-9117-2f36fa97fc84"
      },
      "outputs": [
        {
          "name": "stderr",
          "output_type": "stream",
          "text": [
            "Some weights of RobertaModel were not initialized from the model checkpoint at roberta-large and are newly initialized: ['roberta.pooler.dense.bias', 'roberta.pooler.dense.weight']\n",
            "You should probably TRAIN this model on a down-stream task to be able to use it for predictions and inference.\n"
          ]
        },
        {
          "name": "stdout",
          "output_type": "stream",
          "text": [
            "calculating scores...\n",
            "computing bert embedding.\n"
          ]
        },
        {
          "data": {
            "application/vnd.jupyter.widget-view+json": {
              "model_id": "4ea15a04cdfa44c691cf76ff4174932b",
              "version_major": 2,
              "version_minor": 0
            },
            "text/plain": [
              "  0%|          | 0/11 [00:00<?, ?it/s]"
            ]
          },
          "metadata": {},
          "output_type": "display_data"
        },
        {
          "name": "stdout",
          "output_type": "stream",
          "text": [
            "computing greedy matching.\n"
          ]
        },
        {
          "data": {
            "application/vnd.jupyter.widget-view+json": {
              "model_id": "ad2d0dd3b17e4ae890f31c6b844ab154",
              "version_major": 2,
              "version_minor": 0
            },
            "text/plain": [
              "  0%|          | 0/6 [00:00<?, ?it/s]"
            ]
          },
          "metadata": {},
          "output_type": "display_data"
        },
        {
          "name": "stdout",
          "output_type": "stream",
          "text": [
            "done in 26.93 seconds, 13.00 sentences/sec\n",
            "Average Precision: 0.8391859531402588\n",
            "Average Recall: 0.8304443359375\n",
            "Average F1: 0.8344979286193848\n"
          ]
        }
      ],
      "source": [
        "from bert_score import score\n",
        "\n",
        "gpt2_generated_texts = [result['generated_text'] for result in gpt2_model_results]\n",
        "custom_generated_texts = [result['generated_text'] for result in custom_model_results]\n",
        "\n",
        "# BERTScore\n",
        "P, R, F1 = score(gpt2_generated_texts, custom_generated_texts, lang=\"en\", verbose=True)\n",
        "\n",
        "# average BERTScores\n",
        "average_precision = P.mean().item()\n",
        "average_recall = R.mean().item()\n",
        "average_f1 = F1.mean().item()\n",
        "\n",
        "print(f\"Average Precision: {average_precision}\")\n",
        "print(f\"Average Recall: {average_recall}\")\n",
        "print(f\"Average F1: {average_f1}\")"
      ]
    },
    {
      "cell_type": "markdown",
      "metadata": {
        "id": "qcawQnCGS8Dk"
      },
      "source": [
        "# ROGUE Score"
      ]
    },
    {
      "cell_type": "code",
      "execution_count": null,
      "metadata": {
        "colab": {
          "base_uri": "https://localhost:8080/"
        },
        "id": "jG_-RghaTAGw",
        "outputId": "e35df6ee-71ac-4cf4-a924-72bbc846859a"
      },
      "outputs": [
        {
          "name": "stdout",
          "output_type": "stream",
          "text": [
            "Installing collected packages: rouge-score\n",
            "Successfully installed rouge-score-0.1.2\n"
          ]
        }
      ],
      "source": [
        "!pip install rouge-score"
      ]
    },
    {
      "cell_type": "code",
      "execution_count": null,
      "metadata": {
        "colab": {
          "base_uri": "https://localhost:8080/"
        },
        "id": "N48XTazvTMXm",
        "outputId": "3eadc926-ab09-437c-8e74-aa44daaf706d"
      },
      "outputs": [
        {
          "name": "stdout",
          "output_type": "stream",
          "text": [
            "Average ROUGE-1 Score: 0.3\n",
            "Average ROUGE-2 Score: 0.14\n",
            "Average ROUGE-L Score: 0.27\n"
          ]
        }
      ],
      "source": [
        "from rouge_score import rouge_scorer\n",
        "\n",
        "gpt2_texts = [result['generated_text'] for result in gpt2_model_results]\n",
        "custom_texts = [result['generated_text'] for result in custom_model_results]\n",
        "\n",
        "# Initialize ROUGE scorer\n",
        "scorer = rouge_scorer.RougeScorer(['rouge1', 'rouge2', 'rougeL'], use_stemmer=True)\n",
        "\n",
        "# compute ROUGE scores\n",
        "rouge1_scores = []\n",
        "rouge2_scores = []\n",
        "rougeL_scores = []\n",
        "\n",
        "for gpt2_text, custom_text in zip(gpt2_texts, custom_texts):\n",
        "    scores = scorer.score(gpt2_text, custom_text)\n",
        "    rouge1_scores.append(scores['rouge1'].fmeasure)\n",
        "    rouge2_scores.append(scores['rouge2'].fmeasure)\n",
        "    rougeL_scores.append(scores['rougeL'].fmeasure)\n",
        "\n",
        "# average ROUGE scores\n",
        "average_rouge1 = sum(rouge1_scores) / len(rouge1_scores)\n",
        "average_rouge2 = sum(rouge2_scores) / len(rouge2_scores)\n",
        "average_rougeL = sum(rougeL_scores) / len(rougeL_scores)\n",
        "\n",
        "print(\"Average ROUGE-1 Score:\", round(average_rouge1,2))\n",
        "print(\"Average ROUGE-2 Score:\", round(average_rouge2,2))\n",
        "print(\"Average ROUGE-L Score:\", round(average_rougeL,2))"
      ]
    },
    {
      "cell_type": "code",
      "execution_count": null,
      "metadata": {
        "colab": {
          "base_uri": "https://localhost:8080/"
        },
        "id": "cD6QenftT4Y_",
        "outputId": "e6c8ab39-f98d-4dd1-ae85-00afb5e4a868"
      },
      "outputs": [
        {
          "name": "stdout",
          "output_type": "stream",
          "text": [
            "Average ROUGE-1 Score: 0.36\n",
            "Average ROUGE-2 Score: 0.2\n",
            "Average ROUGE-L Score: 0.34\n"
          ]
        }
      ],
      "source": [
        "# Load the datasets\n",
        "with open(gpt2_model_path, 'r') as f:\n",
        "    gpt2_results = json.load(f)\n",
        "\n",
        "with open(custom_model_path, 'r') as f:\n",
        "    custom_results = json.load(f)\n",
        "\n",
        "# Filter out results with lengths 100, 200, and 300\n",
        "filtered_gpt2_results = [result for result in gpt2_results if result['lengths'] not in [50,100, 200, 300]]\n",
        "filtered_custom_results = [result for result in custom_results if result['lengths'] not in [50,100, 200, 300]]\n",
        "\n",
        "# Extract generated texts from the filtered results\n",
        "filtered_gpt2_texts = [result['generated_text'] for result in filtered_gpt2_results]\n",
        "filtered_custom_texts = [result['generated_text'] for result in filtered_custom_results]\n",
        "\n",
        "# Initialize ROUGE scorer\n",
        "scorer = rouge_scorer.RougeScorer(['rouge1', 'rouge2', 'rougeL'], use_stemmer=True)\n",
        "\n",
        "# Compute ROUGE scores\n",
        "rouge1_scores = []\n",
        "rouge2_scores = []\n",
        "rougeL_scores = []\n",
        "\n",
        "for gpt2_text, custom_text in zip(filtered_gpt2_texts, filtered_custom_texts):\n",
        "    scores = scorer.score(gpt2_text, custom_text)\n",
        "    rouge1_scores.append(scores['rouge1'].fmeasure)\n",
        "    rouge2_scores.append(scores['rouge2'].fmeasure)\n",
        "    rougeL_scores.append(scores['rougeL'].fmeasure)\n",
        "\n",
        "# Calculate average ROUGE scores\n",
        "average_rouge1 = sum(rouge1_scores) / len(rouge1_scores)\n",
        "average_rouge2 = sum(rouge2_scores) / len(rouge2_scores)\n",
        "average_rougeL = sum(rougeL_scores) / len(rougeL_scores)\n",
        "\n",
        "print(\"Average ROUGE-1 Score:\", round(average_rouge1,2))\n",
        "print(\"Average ROUGE-2 Score:\", round(average_rouge2,2))\n",
        "print(\"Average ROUGE-L Score:\", round(average_rougeL,2))"
      ]
    },
    {
      "cell_type": "markdown",
      "metadata": {
        "id": "TYWjtyWh7DyO"
      },
      "source": [
        "# Perplexity"
      ]
    },
    {
      "cell_type": "markdown",
      "metadata": {},
      "source": [
        "Reference: https://huggingface.co/docs/transformers/perplexity"
      ]
    },
    {
      "cell_type": "code",
      "execution_count": 110,
      "metadata": {
        "id": "YcxpBawx7GnT"
      },
      "outputs": [],
      "source": [
        "test = load_dataset(\"wikitext\", \"wikitext-2-raw-v1\", split=\"test\")\n",
        "encodings = tokenizer(\"\\n\\n\".join(test[\"text\"]), return_tensors=\"pt\")"
      ]
    },
    {
      "cell_type": "code",
      "execution_count": null,
      "metadata": {
        "id": "zOLbZ8oN7cwj"
      },
      "outputs": [],
      "source": [
        "log_probs_gpt2 = evaluate_perplexity(model_gpt, encodings, 20)\n",
        "# Calculate final perplexity\n",
        "avg_log_prob_gpt2 = np.mean(log_probs_gpt2)\n",
        "perplexity_gpt2 = np.exp(-avg_log_prob_gpt2)\n",
        "\n",
        "print(\"Final Perplexity:\", perplexity_gpt2)"
      ]
    },
    {
      "cell_type": "code",
      "execution_count": 127,
      "metadata": {
        "colab": {
          "base_uri": "https://localhost:8080/"
        },
        "id": "i1IuRby9IXvS",
        "outputId": "a78b12d9-30de-482e-a064-6bd871102f4c"
      },
      "outputs": [
        {
          "data": {
            "text/plain": [
              "33.47348659116395"
            ]
          },
          "execution_count": 127,
          "metadata": {},
          "output_type": "execute_result"
        }
      ],
      "source": [
        "perplexity_gpt2"
      ]
    },
    {
      "cell_type": "code",
      "execution_count": 125,
      "metadata": {
        "id": "y2ddvSMs8Eml"
      },
      "outputs": [],
      "source": [
        "df = pd.DataFrame(log_probs_gpt2, columns=[\"log_prob\"])\n",
        "\n",
        "# Save to CSV\n",
        "file_path = \"results/log_probs_gpt2.csv\"\n",
        "df.to_csv(file_path, index=False)"
      ]
    },
    {
      "cell_type": "code",
      "execution_count": null,
      "metadata": {
        "id": "WrUfLpjjAJlu"
      },
      "outputs": [],
      "source": [
        "log_probs_topK = evaluate_perplexity(custom_model, encodings, 20)\n",
        "# Calculate final perplexity\n",
        "avg_log_probs_topK = np.mean(log_probs_topK)\n",
        "perplexity_topK = np.exp(-avg_log_probs_topK)\n",
        "\n",
        "print(\"Final Perplexity:\", perplexity_topK)"
      ]
    },
    {
      "cell_type": "code",
      "execution_count": 126,
      "metadata": {
        "colab": {
          "base_uri": "https://localhost:8080/"
        },
        "id": "8EX-zuEoIU1R",
        "outputId": "85010949-fdf9-4edd-88c8-2e3c03b9c81f"
      },
      "outputs": [
        {
          "data": {
            "text/plain": [
              "48.890736229323025"
            ]
          },
          "execution_count": 126,
          "metadata": {},
          "output_type": "execute_result"
        }
      ],
      "source": [
        "perplexity_topK"
      ]
    },
    {
      "cell_type": "code",
      "execution_count": 123,
      "metadata": {
        "id": "a2Z-26unD07y"
      },
      "outputs": [],
      "source": [
        "df = pd.DataFrame(log_probs_topK, columns=[\"log_prob\"])\n",
        "\n",
        "# Save to CSV\n",
        "file_path = \"results/log_probs_topK.csv\"\n",
        "df.to_csv(file_path, index=False)"
      ]
    }
  ],
  "metadata": {
    "accelerator": "GPU",
    "colab": {
      "gpuType": "T4",
      "provenance": []
    },
    "kernelspec": {
      "display_name": "Python 3",
      "name": "python3"
    },
    "language_info": {
      "codemirror_mode": {
        "name": "ipython",
        "version": 3
      },
      "file_extension": ".py",
      "mimetype": "text/x-python",
      "name": "python",
      "nbconvert_exporter": "python",
      "pygments_lexer": "ipython3",
      "version": "3.11.5"
    },
    "widgets": {
      "application/vnd.jupyter.widget-state+json": {
        "0379e42adc2446e9953bfc1c3839484f": {
          "model_module": "@jupyter-widgets/controls",
          "model_module_version": "1.5.0",
          "model_name": "FloatProgressModel",
          "state": {
            "_dom_classes": [],
            "_model_module": "@jupyter-widgets/controls",
            "_model_module_version": "1.5.0",
            "_model_name": "FloatProgressModel",
            "_view_count": null,
            "_view_module": "@jupyter-widgets/controls",
            "_view_module_version": "1.5.0",
            "_view_name": "ProgressView",
            "bar_style": "success",
            "description": "",
            "description_tooltip": null,
            "layout": "IPY_MODEL_eec8b2fa9af14572b34fe6ee925451c9",
            "max": 11,
            "min": 0,
            "orientation": "horizontal",
            "style": "IPY_MODEL_6b45f3a753e04e48850b799604e692e8",
            "value": 11
          }
        },
        "12b32ec2fb43457098bef5f9039fc380": {
          "model_module": "@jupyter-widgets/controls",
          "model_module_version": "1.5.0",
          "model_name": "FloatProgressModel",
          "state": {
            "_dom_classes": [],
            "_model_module": "@jupyter-widgets/controls",
            "_model_module_version": "1.5.0",
            "_model_name": "FloatProgressModel",
            "_view_count": null,
            "_view_module": "@jupyter-widgets/controls",
            "_view_module_version": "1.5.0",
            "_view_name": "ProgressView",
            "bar_style": "success",
            "description": "",
            "description_tooltip": null,
            "layout": "IPY_MODEL_7a79e9a2497c4c7a9817ccf2be210726",
            "max": 6,
            "min": 0,
            "orientation": "horizontal",
            "style": "IPY_MODEL_fb1f185bf5714d7ea28fdef776e86229",
            "value": 6
          }
        },
        "1998d976fe6c47c781d8245c226bec00": {
          "model_module": "@jupyter-widgets/controls",
          "model_module_version": "1.5.0",
          "model_name": "HTMLModel",
          "state": {
            "_dom_classes": [],
            "_model_module": "@jupyter-widgets/controls",
            "_model_module_version": "1.5.0",
            "_model_name": "HTMLModel",
            "_view_count": null,
            "_view_module": "@jupyter-widgets/controls",
            "_view_module_version": "1.5.0",
            "_view_name": "HTMLView",
            "description": "",
            "description_tooltip": null,
            "layout": "IPY_MODEL_b31f36c9d0a74679817bda0ac7422f15",
            "placeholder": "​",
            "style": "IPY_MODEL_7e5e84520b844926a550f66e6783df96",
            "value": "100%"
          }
        },
        "21a2ebc530ba4c159c5e64e1735bbb07": {
          "model_module": "@jupyter-widgets/base",
          "model_module_version": "1.2.0",
          "model_name": "LayoutModel",
          "state": {
            "_model_module": "@jupyter-widgets/base",
            "_model_module_version": "1.2.0",
            "_model_name": "LayoutModel",
            "_view_count": null,
            "_view_module": "@jupyter-widgets/base",
            "_view_module_version": "1.2.0",
            "_view_name": "LayoutView",
            "align_content": null,
            "align_items": null,
            "align_self": null,
            "border": null,
            "bottom": null,
            "display": null,
            "flex": null,
            "flex_flow": null,
            "grid_area": null,
            "grid_auto_columns": null,
            "grid_auto_flow": null,
            "grid_auto_rows": null,
            "grid_column": null,
            "grid_gap": null,
            "grid_row": null,
            "grid_template_areas": null,
            "grid_template_columns": null,
            "grid_template_rows": null,
            "height": null,
            "justify_content": null,
            "justify_items": null,
            "left": null,
            "margin": null,
            "max_height": null,
            "max_width": null,
            "min_height": null,
            "min_width": null,
            "object_fit": null,
            "object_position": null,
            "order": null,
            "overflow": null,
            "overflow_x": null,
            "overflow_y": null,
            "padding": null,
            "right": null,
            "top": null,
            "visibility": null,
            "width": null
          }
        },
        "4ea15a04cdfa44c691cf76ff4174932b": {
          "model_module": "@jupyter-widgets/controls",
          "model_module_version": "1.5.0",
          "model_name": "HBoxModel",
          "state": {
            "_dom_classes": [],
            "_model_module": "@jupyter-widgets/controls",
            "_model_module_version": "1.5.0",
            "_model_name": "HBoxModel",
            "_view_count": null,
            "_view_module": "@jupyter-widgets/controls",
            "_view_module_version": "1.5.0",
            "_view_name": "HBoxView",
            "box_style": "",
            "children": [
              "IPY_MODEL_9124210b547642b3b5cd151d901dbf74",
              "IPY_MODEL_0379e42adc2446e9953bfc1c3839484f",
              "IPY_MODEL_b73fa34eed7d4e488bbd30571752aa8f"
            ],
            "layout": "IPY_MODEL_21a2ebc530ba4c159c5e64e1735bbb07"
          }
        },
        "60dd26a19084482081158f2a9836c324": {
          "model_module": "@jupyter-widgets/base",
          "model_module_version": "1.2.0",
          "model_name": "LayoutModel",
          "state": {
            "_model_module": "@jupyter-widgets/base",
            "_model_module_version": "1.2.0",
            "_model_name": "LayoutModel",
            "_view_count": null,
            "_view_module": "@jupyter-widgets/base",
            "_view_module_version": "1.2.0",
            "_view_name": "LayoutView",
            "align_content": null,
            "align_items": null,
            "align_self": null,
            "border": null,
            "bottom": null,
            "display": null,
            "flex": null,
            "flex_flow": null,
            "grid_area": null,
            "grid_auto_columns": null,
            "grid_auto_flow": null,
            "grid_auto_rows": null,
            "grid_column": null,
            "grid_gap": null,
            "grid_row": null,
            "grid_template_areas": null,
            "grid_template_columns": null,
            "grid_template_rows": null,
            "height": null,
            "justify_content": null,
            "justify_items": null,
            "left": null,
            "margin": null,
            "max_height": null,
            "max_width": null,
            "min_height": null,
            "min_width": null,
            "object_fit": null,
            "object_position": null,
            "order": null,
            "overflow": null,
            "overflow_x": null,
            "overflow_y": null,
            "padding": null,
            "right": null,
            "top": null,
            "visibility": null,
            "width": null
          }
        },
        "6b45f3a753e04e48850b799604e692e8": {
          "model_module": "@jupyter-widgets/controls",
          "model_module_version": "1.5.0",
          "model_name": "ProgressStyleModel",
          "state": {
            "_model_module": "@jupyter-widgets/controls",
            "_model_module_version": "1.5.0",
            "_model_name": "ProgressStyleModel",
            "_view_count": null,
            "_view_module": "@jupyter-widgets/base",
            "_view_module_version": "1.2.0",
            "_view_name": "StyleView",
            "bar_color": null,
            "description_width": ""
          }
        },
        "7a79e9a2497c4c7a9817ccf2be210726": {
          "model_module": "@jupyter-widgets/base",
          "model_module_version": "1.2.0",
          "model_name": "LayoutModel",
          "state": {
            "_model_module": "@jupyter-widgets/base",
            "_model_module_version": "1.2.0",
            "_model_name": "LayoutModel",
            "_view_count": null,
            "_view_module": "@jupyter-widgets/base",
            "_view_module_version": "1.2.0",
            "_view_name": "LayoutView",
            "align_content": null,
            "align_items": null,
            "align_self": null,
            "border": null,
            "bottom": null,
            "display": null,
            "flex": null,
            "flex_flow": null,
            "grid_area": null,
            "grid_auto_columns": null,
            "grid_auto_flow": null,
            "grid_auto_rows": null,
            "grid_column": null,
            "grid_gap": null,
            "grid_row": null,
            "grid_template_areas": null,
            "grid_template_columns": null,
            "grid_template_rows": null,
            "height": null,
            "justify_content": null,
            "justify_items": null,
            "left": null,
            "margin": null,
            "max_height": null,
            "max_width": null,
            "min_height": null,
            "min_width": null,
            "object_fit": null,
            "object_position": null,
            "order": null,
            "overflow": null,
            "overflow_x": null,
            "overflow_y": null,
            "padding": null,
            "right": null,
            "top": null,
            "visibility": null,
            "width": null
          }
        },
        "7e5e84520b844926a550f66e6783df96": {
          "model_module": "@jupyter-widgets/controls",
          "model_module_version": "1.5.0",
          "model_name": "DescriptionStyleModel",
          "state": {
            "_model_module": "@jupyter-widgets/controls",
            "_model_module_version": "1.5.0",
            "_model_name": "DescriptionStyleModel",
            "_view_count": null,
            "_view_module": "@jupyter-widgets/base",
            "_view_module_version": "1.2.0",
            "_view_name": "StyleView",
            "description_width": ""
          }
        },
        "9124210b547642b3b5cd151d901dbf74": {
          "model_module": "@jupyter-widgets/controls",
          "model_module_version": "1.5.0",
          "model_name": "HTMLModel",
          "state": {
            "_dom_classes": [],
            "_model_module": "@jupyter-widgets/controls",
            "_model_module_version": "1.5.0",
            "_model_name": "HTMLModel",
            "_view_count": null,
            "_view_module": "@jupyter-widgets/controls",
            "_view_module_version": "1.5.0",
            "_view_name": "HTMLView",
            "description": "",
            "description_tooltip": null,
            "layout": "IPY_MODEL_60dd26a19084482081158f2a9836c324",
            "placeholder": "​",
            "style": "IPY_MODEL_db7205ad91174646bab4cbb19f2b68f0",
            "value": "100%"
          }
        },
        "9e0ef4cc5cf84366866cda03696f13ba": {
          "model_module": "@jupyter-widgets/base",
          "model_module_version": "1.2.0",
          "model_name": "LayoutModel",
          "state": {
            "_model_module": "@jupyter-widgets/base",
            "_model_module_version": "1.2.0",
            "_model_name": "LayoutModel",
            "_view_count": null,
            "_view_module": "@jupyter-widgets/base",
            "_view_module_version": "1.2.0",
            "_view_name": "LayoutView",
            "align_content": null,
            "align_items": null,
            "align_self": null,
            "border": null,
            "bottom": null,
            "display": null,
            "flex": null,
            "flex_flow": null,
            "grid_area": null,
            "grid_auto_columns": null,
            "grid_auto_flow": null,
            "grid_auto_rows": null,
            "grid_column": null,
            "grid_gap": null,
            "grid_row": null,
            "grid_template_areas": null,
            "grid_template_columns": null,
            "grid_template_rows": null,
            "height": null,
            "justify_content": null,
            "justify_items": null,
            "left": null,
            "margin": null,
            "max_height": null,
            "max_width": null,
            "min_height": null,
            "min_width": null,
            "object_fit": null,
            "object_position": null,
            "order": null,
            "overflow": null,
            "overflow_x": null,
            "overflow_y": null,
            "padding": null,
            "right": null,
            "top": null,
            "visibility": null,
            "width": null
          }
        },
        "ad2d0dd3b17e4ae890f31c6b844ab154": {
          "model_module": "@jupyter-widgets/controls",
          "model_module_version": "1.5.0",
          "model_name": "HBoxModel",
          "state": {
            "_dom_classes": [],
            "_model_module": "@jupyter-widgets/controls",
            "_model_module_version": "1.5.0",
            "_model_name": "HBoxModel",
            "_view_count": null,
            "_view_module": "@jupyter-widgets/controls",
            "_view_module_version": "1.5.0",
            "_view_name": "HBoxView",
            "box_style": "",
            "children": [
              "IPY_MODEL_1998d976fe6c47c781d8245c226bec00",
              "IPY_MODEL_12b32ec2fb43457098bef5f9039fc380",
              "IPY_MODEL_bfb958e4b14849959dd74c2ff869249e"
            ],
            "layout": "IPY_MODEL_9e0ef4cc5cf84366866cda03696f13ba"
          }
        },
        "b31f36c9d0a74679817bda0ac7422f15": {
          "model_module": "@jupyter-widgets/base",
          "model_module_version": "1.2.0",
          "model_name": "LayoutModel",
          "state": {
            "_model_module": "@jupyter-widgets/base",
            "_model_module_version": "1.2.0",
            "_model_name": "LayoutModel",
            "_view_count": null,
            "_view_module": "@jupyter-widgets/base",
            "_view_module_version": "1.2.0",
            "_view_name": "LayoutView",
            "align_content": null,
            "align_items": null,
            "align_self": null,
            "border": null,
            "bottom": null,
            "display": null,
            "flex": null,
            "flex_flow": null,
            "grid_area": null,
            "grid_auto_columns": null,
            "grid_auto_flow": null,
            "grid_auto_rows": null,
            "grid_column": null,
            "grid_gap": null,
            "grid_row": null,
            "grid_template_areas": null,
            "grid_template_columns": null,
            "grid_template_rows": null,
            "height": null,
            "justify_content": null,
            "justify_items": null,
            "left": null,
            "margin": null,
            "max_height": null,
            "max_width": null,
            "min_height": null,
            "min_width": null,
            "object_fit": null,
            "object_position": null,
            "order": null,
            "overflow": null,
            "overflow_x": null,
            "overflow_y": null,
            "padding": null,
            "right": null,
            "top": null,
            "visibility": null,
            "width": null
          }
        },
        "b73fa34eed7d4e488bbd30571752aa8f": {
          "model_module": "@jupyter-widgets/controls",
          "model_module_version": "1.5.0",
          "model_name": "HTMLModel",
          "state": {
            "_dom_classes": [],
            "_model_module": "@jupyter-widgets/controls",
            "_model_module_version": "1.5.0",
            "_model_name": "HTMLModel",
            "_view_count": null,
            "_view_module": "@jupyter-widgets/controls",
            "_view_module_version": "1.5.0",
            "_view_name": "HTMLView",
            "description": "",
            "description_tooltip": null,
            "layout": "IPY_MODEL_eca7f5057dc74c7f8a1b4d69192e3d0a",
            "placeholder": "​",
            "style": "IPY_MODEL_bdd76f3e47fa4d398a8b654d8015708c",
            "value": " 11/11 [00:26&lt;00:00,  1.11s/it]"
          }
        },
        "bdd76f3e47fa4d398a8b654d8015708c": {
          "model_module": "@jupyter-widgets/controls",
          "model_module_version": "1.5.0",
          "model_name": "DescriptionStyleModel",
          "state": {
            "_model_module": "@jupyter-widgets/controls",
            "_model_module_version": "1.5.0",
            "_model_name": "DescriptionStyleModel",
            "_view_count": null,
            "_view_module": "@jupyter-widgets/base",
            "_view_module_version": "1.2.0",
            "_view_name": "StyleView",
            "description_width": ""
          }
        },
        "bfb958e4b14849959dd74c2ff869249e": {
          "model_module": "@jupyter-widgets/controls",
          "model_module_version": "1.5.0",
          "model_name": "HTMLModel",
          "state": {
            "_dom_classes": [],
            "_model_module": "@jupyter-widgets/controls",
            "_model_module_version": "1.5.0",
            "_model_name": "HTMLModel",
            "_view_count": null,
            "_view_module": "@jupyter-widgets/controls",
            "_view_module_version": "1.5.0",
            "_view_name": "HTMLView",
            "description": "",
            "description_tooltip": null,
            "layout": "IPY_MODEL_c92ae946e46f42229d8a0fb817b626fc",
            "placeholder": "​",
            "style": "IPY_MODEL_c531cd352d04458a8ffe8a1d61d373e3",
            "value": " 6/6 [00:00&lt;00:00, 13.75it/s]"
          }
        },
        "c531cd352d04458a8ffe8a1d61d373e3": {
          "model_module": "@jupyter-widgets/controls",
          "model_module_version": "1.5.0",
          "model_name": "DescriptionStyleModel",
          "state": {
            "_model_module": "@jupyter-widgets/controls",
            "_model_module_version": "1.5.0",
            "_model_name": "DescriptionStyleModel",
            "_view_count": null,
            "_view_module": "@jupyter-widgets/base",
            "_view_module_version": "1.2.0",
            "_view_name": "StyleView",
            "description_width": ""
          }
        },
        "c92ae946e46f42229d8a0fb817b626fc": {
          "model_module": "@jupyter-widgets/base",
          "model_module_version": "1.2.0",
          "model_name": "LayoutModel",
          "state": {
            "_model_module": "@jupyter-widgets/base",
            "_model_module_version": "1.2.0",
            "_model_name": "LayoutModel",
            "_view_count": null,
            "_view_module": "@jupyter-widgets/base",
            "_view_module_version": "1.2.0",
            "_view_name": "LayoutView",
            "align_content": null,
            "align_items": null,
            "align_self": null,
            "border": null,
            "bottom": null,
            "display": null,
            "flex": null,
            "flex_flow": null,
            "grid_area": null,
            "grid_auto_columns": null,
            "grid_auto_flow": null,
            "grid_auto_rows": null,
            "grid_column": null,
            "grid_gap": null,
            "grid_row": null,
            "grid_template_areas": null,
            "grid_template_columns": null,
            "grid_template_rows": null,
            "height": null,
            "justify_content": null,
            "justify_items": null,
            "left": null,
            "margin": null,
            "max_height": null,
            "max_width": null,
            "min_height": null,
            "min_width": null,
            "object_fit": null,
            "object_position": null,
            "order": null,
            "overflow": null,
            "overflow_x": null,
            "overflow_y": null,
            "padding": null,
            "right": null,
            "top": null,
            "visibility": null,
            "width": null
          }
        },
        "db7205ad91174646bab4cbb19f2b68f0": {
          "model_module": "@jupyter-widgets/controls",
          "model_module_version": "1.5.0",
          "model_name": "DescriptionStyleModel",
          "state": {
            "_model_module": "@jupyter-widgets/controls",
            "_model_module_version": "1.5.0",
            "_model_name": "DescriptionStyleModel",
            "_view_count": null,
            "_view_module": "@jupyter-widgets/base",
            "_view_module_version": "1.2.0",
            "_view_name": "StyleView",
            "description_width": ""
          }
        },
        "eca7f5057dc74c7f8a1b4d69192e3d0a": {
          "model_module": "@jupyter-widgets/base",
          "model_module_version": "1.2.0",
          "model_name": "LayoutModel",
          "state": {
            "_model_module": "@jupyter-widgets/base",
            "_model_module_version": "1.2.0",
            "_model_name": "LayoutModel",
            "_view_count": null,
            "_view_module": "@jupyter-widgets/base",
            "_view_module_version": "1.2.0",
            "_view_name": "LayoutView",
            "align_content": null,
            "align_items": null,
            "align_self": null,
            "border": null,
            "bottom": null,
            "display": null,
            "flex": null,
            "flex_flow": null,
            "grid_area": null,
            "grid_auto_columns": null,
            "grid_auto_flow": null,
            "grid_auto_rows": null,
            "grid_column": null,
            "grid_gap": null,
            "grid_row": null,
            "grid_template_areas": null,
            "grid_template_columns": null,
            "grid_template_rows": null,
            "height": null,
            "justify_content": null,
            "justify_items": null,
            "left": null,
            "margin": null,
            "max_height": null,
            "max_width": null,
            "min_height": null,
            "min_width": null,
            "object_fit": null,
            "object_position": null,
            "order": null,
            "overflow": null,
            "overflow_x": null,
            "overflow_y": null,
            "padding": null,
            "right": null,
            "top": null,
            "visibility": null,
            "width": null
          }
        },
        "eec8b2fa9af14572b34fe6ee925451c9": {
          "model_module": "@jupyter-widgets/base",
          "model_module_version": "1.2.0",
          "model_name": "LayoutModel",
          "state": {
            "_model_module": "@jupyter-widgets/base",
            "_model_module_version": "1.2.0",
            "_model_name": "LayoutModel",
            "_view_count": null,
            "_view_module": "@jupyter-widgets/base",
            "_view_module_version": "1.2.0",
            "_view_name": "LayoutView",
            "align_content": null,
            "align_items": null,
            "align_self": null,
            "border": null,
            "bottom": null,
            "display": null,
            "flex": null,
            "flex_flow": null,
            "grid_area": null,
            "grid_auto_columns": null,
            "grid_auto_flow": null,
            "grid_auto_rows": null,
            "grid_column": null,
            "grid_gap": null,
            "grid_row": null,
            "grid_template_areas": null,
            "grid_template_columns": null,
            "grid_template_rows": null,
            "height": null,
            "justify_content": null,
            "justify_items": null,
            "left": null,
            "margin": null,
            "max_height": null,
            "max_width": null,
            "min_height": null,
            "min_width": null,
            "object_fit": null,
            "object_position": null,
            "order": null,
            "overflow": null,
            "overflow_x": null,
            "overflow_y": null,
            "padding": null,
            "right": null,
            "top": null,
            "visibility": null,
            "width": null
          }
        },
        "fb1f185bf5714d7ea28fdef776e86229": {
          "model_module": "@jupyter-widgets/controls",
          "model_module_version": "1.5.0",
          "model_name": "ProgressStyleModel",
          "state": {
            "_model_module": "@jupyter-widgets/controls",
            "_model_module_version": "1.5.0",
            "_model_name": "ProgressStyleModel",
            "_view_count": null,
            "_view_module": "@jupyter-widgets/base",
            "_view_module_version": "1.2.0",
            "_view_name": "StyleView",
            "bar_color": null,
            "description_width": ""
          }
        }
      }
    }
  },
  "nbformat": 4,
  "nbformat_minor": 0
}
