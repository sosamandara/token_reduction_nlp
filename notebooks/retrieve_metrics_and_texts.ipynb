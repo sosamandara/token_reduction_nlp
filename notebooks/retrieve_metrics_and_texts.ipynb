{
  "cells": [
    {
      "cell_type": "markdown",
      "metadata": {
        "id": "PLIZvR5AtEk2"
      },
      "source": [
        "notebook runnable in colab"
      ]
    },
    {
      "cell_type": "code",
      "execution_count": 1,
      "metadata": {
        "colab": {
          "base_uri": "https://localhost:8080/"
        },
        "id": "Vsjgq8e2l-gn",
        "outputId": "be93911b-d6eb-4603-a838-a591f3969064"
      },
      "outputs": [
        {
          "name": "stdout",
          "output_type": "stream",
          "text": [
            "Cloning into 'token_reduction_nlp'...\n",
            "remote: Enumerating objects: 301, done.\u001b[K\n",
            "remote: Counting objects: 100% (301/301), done.\u001b[K\n",
            "remote: Compressing objects: 100% (255/255), done.\u001b[K\n",
            "remote: Total 301 (delta 72), reused 265 (delta 41), pack-reused 0\u001b[K\n",
            "Receiving objects: 100% (301/301), 12.60 MiB | 5.44 MiB/s, done.\n",
            "Resolving deltas: 100% (72/72), done.\n"
          ]
        }
      ],
      "source": [
        "!git clone https://github.com/sosamandara/token_reduction_nlp.git"
      ]
    },
    {
      "cell_type": "code",
      "execution_count": 2,
      "metadata": {
        "colab": {
          "base_uri": "https://localhost:8080/"
        },
        "id": "VOLKdt52cVUy",
        "outputId": "7a79dfa2-77dd-4259-b01d-988d8e9313ca"
      },
      "outputs": [
        {
          "name": "stdout",
          "output_type": "stream",
          "text": [
            "/content/token_reduction_nlp/notebooks\n"
          ]
        }
      ],
      "source": [
        "%cd /content/token_reduction_nlp/notebooks"
      ]
    },
    {
      "cell_type": "markdown",
      "metadata": {
        "id": "TxnwVNTFL9uy"
      },
      "source": [
        "# Time and Flops"
      ]
    },
    {
      "cell_type": "code",
      "execution_count": null,
      "metadata": {
        "id": "v4ADEfFL9TxH"
      },
      "outputs": [],
      "source": [
        "import sys\n",
        "import os\n",
        "\n",
        "# Get the current working directory\n",
        "current_dir = os.getcwd()\n",
        "\n",
        "# Assuming the notebooks are in the notebooks directory and executed from there\n",
        "project_root = os.path.abspath(os.path.join(current_dir, '..'))\n",
        "\n",
        "# Add the models and src directories to the Python path\n",
        "models_dir = os.path.join(project_root, 'models')\n",
        "src_dir = os.path.join(project_root, 'src')\n",
        "\n",
        "sys.path.append(models_dir)\n",
        "sys.path.append(src_dir)\n",
        "\n",
        "# Verify that the paths are correctly added\n",
        "print(\"Current directory:\", current_dir)\n",
        "print(\"Project root directory:\", project_root)\n",
        "print(\"Models directory added to sys.path:\", models_dir in sys.path)\n",
        "print(\"Src directory added to sys.path:\", src_dir in sys.path)"
      ]
    },
    {
      "cell_type": "code",
      "execution_count": null,
      "metadata": {
        "id": "43fOrsF-tVHP"
      },
      "outputs": [],
      "source": [
        "!pip install datasets\n",
        "from transformers import GPT2Tokenizer, GPT2LMHeadModel, GPT2Config, AutoTokenizer, AutoModel\n",
        "from modeling_topK_gpt2 import CustomGPT2LMHeadModel\n",
        "import json\n",
        "import matplotlib.pyplot as plt\n",
        "from datasets import load_dataset\n",
        "from functions import run_generation_on_dataset, plot_averages, load_custom_model\n",
        "from perplexity import evaluate_perplexity\n",
        "from sklearn.metrics.pairwise import cosine_similarity\n",
        "import numpy as np\n",
        "import pandas as pd"
      ]
    },
    {
      "cell_type": "code",
      "execution_count": 4,
      "metadata": {
        "colab": {
          "base_uri": "https://localhost:8080/",
          "height": 351,
          "referenced_widgets": [
            "f2f1f72f2adc44a99db0d77d23fb38a5",
            "4bec9aba29924ee3afa2cafac7184651",
            "62f8fba7f0114ce8b19e47c3e9d84f90",
            "50fb2835a4fc4b3f94ddb894435235cc",
            "f8bcbf6b7d5149a3b32be1eb400f54d4",
            "81fa26941fa441439ec7e93e1bf086d8",
            "2a1378a41aea4936a5c9d609f400336e",
            "618af85e45504e5ba753fe3e3d851a95",
            "a648c194e94540bfbdd896f08a78d31f",
            "b84d90073c044472963129595aeea6b5",
            "c701f7f3a69d4c6a9a5282d2ac4cce07",
            "c906c65479ea4054afa650dfde3d5c75",
            "bb24c308404a487e9d37bfca7f832480",
            "4fa9308d74f54899827dd724ddd25db6",
            "9cef041bd2aa4deabfc20f2135fc5478",
            "d41c92abd9ef457c9f57502f4ab30f90",
            "73200f235fa6451aa982631aed7c648f",
            "5ad27797362041a8a28ae9d339ea55b7",
            "9d63a25c8ecb4fccaa2254bf0573f4d3",
            "4bfc6b9e688a4633879c23cbf3fda8d1",
            "6bc03a945cb249c69b1a3fb332c2f8a2",
            "53d6681d17cf404399d06acf788a0f98",
            "86770149adae4ae685e99a567ece770e",
            "9ba5690a16d74680ae510067b830776a",
            "1009a623490948f3ab62b32365e10c0b",
            "4ef0114495be4a6f8ec08bb3ad936617",
            "1652224526c0481b9cc9afcc262def39",
            "937e0c86c1cb458bbec57850fd958c0d",
            "e29e5d9f7deb43f4bbffa025f5188ed2",
            "4e1b1a2e920e4f6d9c3751dca9b5d7a2",
            "5afa0afca80f4d29aaeaa48b1d0190fe",
            "2db0c44edb854cb5a28c563ad660f8d6",
            "91731e6fb58440868395aa9c69bf356f",
            "d2b1c05bcee04a7fb4f4b46d10602a56",
            "5396007d013e48d6a6de4309161ffe5d",
            "d900e77ef6ed4337b65778b8963efc32",
            "ed9fab63cc6546c48d74faa29f6d3aa7",
            "661a20ff3c6b4701b84149ad873563c6",
            "36699e3605924606976caada927a2be5",
            "0b26750a606348a0b6228d5cb5373bc5",
            "70825c714aa048a4813f2dd5ccbfbb9d",
            "07c897c786004c77b9cc85b92a11d537",
            "4664bd72f04f46ecb5cc6348143119f3",
            "b02463ee5a144620b82f5c9c387c26e1",
            "0336989e3d7640b290187f7e362d6710",
            "d023b88b5b2b4eaa873a1486b8d60209",
            "b6c18c1bb73c4700b4c4e64ad41d42e5",
            "6369890ebb744c11a96acf1a209a6ac8",
            "6f127be6dabb4f43a3f7df12da818111",
            "67823214724046f58b19fd734ae46287",
            "5f4418808bf14e2ca7e1e4b80768d997",
            "fd12ff751d464f45925c447cdb92559c",
            "d2b8858a61f24afa9f88b52f5699e47d",
            "d9d3feccc1a749a39118accdf14c242d",
            "5497a4ed38df409a8d58da8047ac6c51"
          ]
        },
        "id": "E4r_IrRQ81Y2",
        "outputId": "7838bf3f-e237-418e-b636-c5c7df019fd8"
      },
      "outputs": [
        {
          "data": {
            "application/vnd.jupyter.widget-view+json": {
              "model_id": "f2f1f72f2adc44a99db0d77d23fb38a5",
              "version_major": 2,
              "version_minor": 0
            },
            "text/plain": [
              "Downloading readme:   0%|          | 0.00/8.07k [00:00<?, ?B/s]"
            ]
          },
          "metadata": {},
          "output_type": "display_data"
        },
        {
          "data": {
            "application/vnd.jupyter.widget-view+json": {
              "model_id": "c906c65479ea4054afa650dfde3d5c75",
              "version_major": 2,
              "version_minor": 0
            },
            "text/plain": [
              "Downloading data:   0%|          | 0.00/18.6M [00:00<?, ?B/s]"
            ]
          },
          "metadata": {},
          "output_type": "display_data"
        },
        {
          "data": {
            "application/vnd.jupyter.widget-view+json": {
              "model_id": "86770149adae4ae685e99a567ece770e",
              "version_major": 2,
              "version_minor": 0
            },
            "text/plain": [
              "Downloading data:   0%|          | 0.00/1.23M [00:00<?, ?B/s]"
            ]
          },
          "metadata": {},
          "output_type": "display_data"
        },
        {
          "data": {
            "application/vnd.jupyter.widget-view+json": {
              "model_id": "d2b1c05bcee04a7fb4f4b46d10602a56",
              "version_major": 2,
              "version_minor": 0
            },
            "text/plain": [
              "Generating train split:   0%|          | 0/120000 [00:00<?, ? examples/s]"
            ]
          },
          "metadata": {},
          "output_type": "display_data"
        },
        {
          "data": {
            "application/vnd.jupyter.widget-view+json": {
              "model_id": "0336989e3d7640b290187f7e362d6710",
              "version_major": 2,
              "version_minor": 0
            },
            "text/plain": [
              "Generating test split:   0%|          | 0/7600 [00:00<?, ? examples/s]"
            ]
          },
          "metadata": {},
          "output_type": "display_data"
        },
        {
          "data": {
            "text/plain": [
              "DatasetDict({\n",
              "    train: Dataset({\n",
              "        features: ['text', 'label'],\n",
              "        num_rows: 120000\n",
              "    })\n",
              "    test: Dataset({\n",
              "        features: ['text', 'label'],\n",
              "        num_rows: 7600\n",
              "    })\n",
              "})"
            ]
          },
          "execution_count": 4,
          "metadata": {},
          "output_type": "execute_result"
        }
      ],
      "source": [
        "dataset = load_dataset(\"ag_news\")\n",
        "dataset"
      ]
    },
    {
      "cell_type": "markdown",
      "metadata": {
        "id": "ZrYBxEeYXdnR"
      },
      "source": [
        "# Run and save the files"
      ]
    },
    {
      "cell_type": "code",
      "execution_count": 5,
      "metadata": {
        "colab": {
          "base_uri": "https://localhost:8080/"
        },
        "id": "fpAiHhtG-D4T",
        "outputId": "9280abff-9244-4ecd-bb89-33c0eb95b552"
      },
      "outputs": [
        {
          "name": "stdout",
          "output_type": "stream",
          "text": [
            "----- 10 -----\n",
            "[0.14, 0.13, 0.1, 0.1, 0.1, 0.1]\n",
            "----- 20 -----\n",
            "[0.24, 0.22, 0.2, 0.2, 0.19, 0.19]\n",
            "----- 30 -----\n",
            "[0.34, 0.31, 0.29, 0.3, 0.29, 0.29]\n",
            "----- 40 -----\n",
            "[0.44, 0.4, 0.4, 0.39, 0.38, 0.38]\n",
            "----- 50 -----\n",
            "[0.52, 0.51, 0.49, 0.49, 0.48, 0.48]\n",
            "----- 60 -----\n",
            "[0.68, 0.61, 0.59, 0.59, 0.58, 0.58]\n",
            "----- 70 -----\n",
            "[0.76, 0.71, 0.68, 0.68, 0.67, 0.67]\n",
            "----- 80 -----\n",
            "[0.82, 0.8, 0.79, 0.78, 0.78, 0.78]\n",
            "----- 90 -----\n",
            "[0.92, 0.9, 0.89, 0.88, 0.88, 0.88]\n"
          ]
        }
      ],
      "source": [
        "def calculate_reduction(lenght, mask):\n",
        "  actual_lenght=lenght\n",
        "  for percentage in mask:\n",
        "    actual_lenght = (actual_lenght - int(actual_lenght*percentage))\n",
        "  return actual_lenght + 1\n",
        "\n",
        "window_sizes = [50, 100, 200, 300, 500, 1000]\n",
        "remaining_tokens = []\n",
        "per_keep = []\n",
        "\n",
        "mask_10 = [0.0, 0.15, 0.2, 0.2, 0.25, 0.25, 0.25, 0.25, 0.25, 0.2, 0.05, 0.05]\n",
        "mask_20 = [0.0, 0.0, 0.25, 0.2, 0.2, 0.2, 0.2, 0.2, 0.1, 0.1, 0.0, 0.05]\n",
        "mask_30 = [0.0, 0.0, 0.2, 0.15, 0.15, 0.15, 0.2, 0.2, 0.05, 0.05, 0.0, 0.0]\n",
        "mask_40 = [0.0, 0.0, 0.0, 0.2, 0.2, 0.15, 0.1, 0.1, 0.05, 0.05, 0.0, 0.05]\n",
        "mask_50 = [0.0, 0.0, 0.0, 0.2, 0.15, 0.07, 0.07, 0.1, 0.05, 0.05, 0.0, 0.0]\n",
        "mask_60 = [0.0, 0.0, 0.07, 0.07, 0.1, 0.07, 0.07, 0.05, 0.05, 0.05, 0.0, 0.0]\n",
        "mask_70 = [0.0, 0.0, 0.05, 0.07, 0.1, 0.07, 0.05, 0.0, 0.0, 0.05, 0.0, 0.0]\n",
        "mask_80 = [0.0, 0.0, 0.0, 0.05, 0.05, 0.05, 0.05, 0.05, 0.0, 0.0, 0.0, 0.0]\n",
        "mask_90 = [0.0, 0.0, 0.0, 0.05, 0.0, 0.05, 0.0, 0.03, 0.0, 0.0, 0.0, 0.0]\n",
        "\n",
        "masks = [mask_10, mask_20, mask_30, mask_40, mask_50,\n",
        "         mask_60, mask_70, mask_80, mask_90,]\n",
        "mask_number = [\"10\", \"20\", \"30\", \"40\", \"50\", \"60\", \"70\", \"80\", \"90\"]\n",
        "\n",
        "for i, mask in enumerate(masks):\n",
        "  #remaining_tokens = []\n",
        "  per_keep = []\n",
        "  for w in window_sizes:\n",
        "    #remaining_tokens.append(calculate_reduction(w, mask))\n",
        "    per_keep.append(round(calculate_reduction(w, mask)/w,2))\n",
        "    #print(remaining_tokens)\n",
        "  print(\"-----\",mask_number[i],\"-----\")\n",
        "  print(per_keep)"
      ]
    },
    {
      "cell_type": "code",
      "execution_count": null,
      "metadata": {
        "id": "ZdW1pEQE-GCM"
      },
      "outputs": [],
      "source": [
        "model_name = \"gpt2\"\n",
        "tokenizer = GPT2Tokenizer.from_pretrained(model_name)\n",
        "config = GPT2Config.from_pretrained(model_name)\n",
        "model_gpt = GPT2LMHeadModel.from_pretrained(model_name, config=config).to('cuda')\n",
        "\n",
        "# Layers to prune\n",
        "layers_to_prune = [0, 1, 2, 3, 4, 5, 6, 7, 8, 9, 10, 11]\n",
        "\n",
        "# Load custom models with different k_percent values\n",
        "custom_models = {}\n",
        "for i, mask in enumerate(masks):\n",
        "    model_id = f\"random_{i * 10 + 10}\"\n",
        "    custom_models[model_id] = load_custom_model(model_name, config, mask, selection_method=\"top_k\", layers_to_prune=layers_to_prune)"
      ]
    },
    {
      "cell_type": "code",
      "execution_count": null,
      "metadata": {
        "colab": {
          "base_uri": "https://localhost:8080/"
        },
        "id": "7QgXlG-L-Uwp",
        "outputId": "fe781269-fdcd-4329-a096-e2f22131466d"
      },
      "outputs": [],
      "source": [
        "models = [model_gpt] + list(custom_models.values())\n",
        "model_names = ['gpt2'] + [f'top_K_{i * 10}%' for i in range(1, len(custom_models) + 1)]\n",
        "project_root = os.path.abspath(os.path.join(os.getcwd(), '..'))\n",
        "output_dir = os.path.join(project_root, 'results/Time_Flops_Mean_Removal')\n",
        "\n",
        "for i, model in enumerate(models):\n",
        "  results_gpt = run_generation_on_dataset(dataset, model, tokenizer, 10, [10, 20, 30, 50, 100, 200, 300],\n",
        "                                          model_names[i], output_dir)"
      ]
    },
    {
      "cell_type": "code",
      "execution_count": 6,
      "metadata": {
        "colab": {
          "base_uri": "https://localhost:8080/",
          "height": 1000
        },
        "id": "IpbSEzROEonH",
        "outputId": "01c3a91b-2226-413b-c01b-28d3701b2bfa"
      },
      "outputs": [
        {
          "name": "stdout",
          "output_type": "stream",
          "text": [
            "Plotting time_taken for model gpt2 with 70 results\n",
            "gpt2 averages: [0.14181230068206788, 0.3287815093994141, 0.5960782051086426, 1.1456620693206787, 2.4550694465637206, 6.385976696014405, 18.70413637161255]\n",
            "Plotting time_taken for model top_K_10% with 70 results\n",
            "top_K_10% averages: [0.177003812789917, 0.3670575380325317, 0.5895724534988404, 0.9796058416366578, 2.159143400192261, 5.167164397239685, 8.663120102882385]\n",
            "Plotting time_taken for model top_K_20% with 70 results\n",
            "top_K_20% averages: [0.17960762977600098, 0.3660648107528687, 0.583067798614502, 0.988793921470642, 2.2186487913131714, 5.117498970031738, 8.345954823493958]\n",
            "Plotting time_taken for model top_K_30 with 70 results\n",
            "top_K_30 averages: [0.3121568918228149, 0.38366851806640623, 0.5854240655899048, 1.0665192127227783, 2.4414942026138307, 5.5736347198486325, 9.468899583816528]\n",
            "Plotting time_taken for model top_K_40% with 70 results\n",
            "top_K_40% averages: [0.184982967376709, 0.3934487819671631, 0.6151030540466309, 1.1080657720565796, 2.6337414026260375, 5.651779222488403, 10.681554627418517]\n",
            "Plotting time_taken for model top_K_50% with 70 results\n",
            "top_K_50% averages: [0.1835186004638672, 0.40455145835876466, 0.6004713296890258, 1.1701591968536378, 2.6721991062164308, 5.686382818222046, 11.807852530479432]\n",
            "Plotting time_taken for model top_K_60% with 70 results\n",
            "top_K_60% averages: [0.3525685787200928, 0.43958563804626466, 0.6978359460830689, 1.2286296606063842, 2.7732621669769286, 6.114802002906799, 13.837987613677978]\n",
            "Plotting time_taken for model top_K_70% with 70 results\n",
            "top_K_70% averages: [0.20101690292358398, 0.40904786586761477, 0.6687130451202392, 1.2841035842895507, 2.9185667037963867, 6.537442564964294, 16.01510112285614]\n",
            "Plotting time_taken for model top_K_80% with 70 results\n",
            "top_K_80% averages: [0.19258575439453124, 0.4128992557525635, 0.7037145137786865, 1.3200403451919556, 2.981344223022461, 7.08679051399231, 18.282056164741515]\n",
            "Plotting time_taken for model top_K_90% with 70 results\n",
            "top_K_90% averages: [0.20167064666748047, 0.43756928443908694, 0.7487996339797973, 1.4478927612304688, 2.9612128496170045, 6.804627513885498, 17.2644460439682]\n"
          ]
        },
        {
          "data": {
            "image/png": "[encoded data removed]",
            "text/plain": [
              "<Figure size 1000x600 with 1 Axes>"
            ]
          },
          "metadata": {},
          "output_type": "display_data"
        },
        {
          "name": "stdout",
          "output_type": "stream",
          "text": [
            "Plotting flops for model gpt2 with 70 results\n",
            "gpt2 averages: [147428703283.2, 368418341222.4, 742699906560.0, 1749555041894.4, 5449512960000.0, 18967716864000.0, 49729222656000.0]\n",
            "Plotting flops for model top_K_10% with 70 results\n",
            "top_K_10% averages: [49483315507.2, 121557564979.2, 240112496640.0, 542045445734.4, 1615621374873.6, 5475410565120.0, 14174806443417.6]\n",
            "Plotting flops for model top_K_20% with 70 results\n",
            "top_K_20% averages: [61809568204.8, 152219682508.8, 288295891507.2, 635088944947.2, 1869332102553.6, 6242770253260.8, 16021592636620.8]\n",
            "Plotting flops for model top_K_30 with 70 results\n",
            "top_K_30 averages: [73434641664.0, 179106495129.6, 347560182988.8, 789896500224.0, 2390788705382.4, 8158562621644.8, 21122067841996.8]\n",
            "Plotting flops for model top_K_40% with 70 results\n",
            "top_K_40% averages: [86036829235.2, 213646263244.8, 421942779187.2, 975557696256.0, 2917138057574.4, 9839656788787.2, 25370707221504.0]\n",
            "Plotting flops for model top_K_50% with 70 results\n",
            "top_K_50% averages: [96701787801.6, 238414478438.4, 462614618265.6, 1054761877708.8, 3193711546982.4, 10888837239552.0, 28181852000256.0]\n",
            "Plotting flops for model top_K_60% with 70 results\n",
            "top_K_60% averages: [108602084044.8, 267916824883.2, 520345626470.4, 1184029209292.8, 3581867417702.4, 12194739845529.6, 31551549060710.4]\n",
            "Plotting flops for model top_K_70% with 70 results\n",
            "top_K_70% averages: [115820884070.4, 287880641740.8, 573781440307.2, 1339293200025.6, 4144576040140.8, 14350112701132.8, 37451131952793.6]\n",
            "Plotting flops for model top_K_80% with 70 results\n",
            "top_K_80% averages: [128027459788.8, 317570510131.2, 634500669542.4, 1483277877043.2, 4598751030374.4, 15944463285657.6, 41664874488883.2]\n",
            "Plotting flops for model top_K_90% with 70 results\n",
            "top_K_90% averages: [136503531110.4, 339080362444.8, 665542554316.8, 1527144310579.2, 4647037626624.0, 15886392347904.0, 41182195968460.8]\n"
          ]
        },
        {
          "data": {
            "image/png": "[encoded data removed]",
            "text/plain": [
              "<Figure size 1000x600 with 1 Axes>"
            ]
          },
          "metadata": {},
          "output_type": "display_data"
        }
      ],
      "source": [
        "import os\n",
        "import json\n",
        "import matplotlib.pyplot as plt\n",
        "import numpy as np\n",
        "\n",
        "def plot_averages(results, key, ylabel, title, figsize=(10, 6)):\n",
        "    lengths = sorted(list(set([res['lengths'] for res in results])))\n",
        "    model_names = sorted(list(set([res['model_name'] for res in results])))\n",
        "\n",
        "    plt.figure(figsize=figsize)\n",
        "\n",
        "    for model_name in model_names:\n",
        "        model_results = [res for res in results if res['model_name'] == model_name]\n",
        "        print(f\"Plotting {key} for model {model_name} with {len(model_results)} results\")\n",
        "        averages = []\n",
        "        for length in lengths:\n",
        "            length_results = [res[key] for res in model_results if res['lengths'] == length]\n",
        "            if length_results:\n",
        "                averages.append(np.mean(length_results))\n",
        "            else:\n",
        "                averages.append(float('nan'))  # Handle cases where there are no results for a specific length\n",
        "        print(f\"{model_name} averages: {averages}\")\n",
        "        plt.plot(lengths, averages, label=model_name, marker='o')\n",
        "\n",
        "    plt.xlabel('Context Size')\n",
        "    plt.ylabel(ylabel)\n",
        "    plt.title(title)\n",
        "    plt.legend(loc='upper left')\n",
        "    plt.grid(True)\n",
        "    plt.show()\n",
        "\n",
        "def load_results_from_json(model_names, results_dir):\n",
        "    all_results = []\n",
        "    for model_name in model_names:\n",
        "        #print(model_name)\n",
        "        json_filename = f'generation_results_{model_name}.json'\n",
        "        json_path = os.path.join(results_dir, json_filename)\n",
        "        if not os.path.exists(json_path):\n",
        "            #print(f\"File not found: {json_path}\")\n",
        "            continue\n",
        "        with open(json_path, 'r') as f:\n",
        "            model_results = json.load(f)\n",
        "            #print(f\"Loaded {len(model_results)} results for model {model_name}\")\n",
        "            all_results.extend(model_results)\n",
        "    return all_results\n",
        "\n",
        "# Define model names and paths\n",
        "model_names = ['gpt2', 'top_K_10%', 'top_K_20%', 'top_K_30%', 'top_K_40%', 'top_K_50%', 'top_K_60%', 'top_K_70%', 'top_K_80%', 'top_K_90%']\n",
        "project_root = os.path.abspath(os.path.join(os.getcwd(), '..'))\n",
        "results_dir = os.path.join(project_root, 'results/Time_Flops_Mean_Removal')\n",
        "\n",
        "# Load all results\n",
        "all_results = load_results_from_json(model_names, results_dir)\n",
        "\n",
        "# Plot average times\n",
        "plot_averages(all_results, key=\"time_taken\", ylabel='Average Time (s)', title='Average Generation Time by Length for TopK Model vs GPT-2 Model')\n",
        "\n",
        "# Plot average FLOPs\n",
        "plot_averages(all_results, key=\"flops\", ylabel='Average FLOPs', title='Average FLOPs by Length for TopK Model vs GPT-2 Model')\n"
      ]
    },
    {
      "cell_type": "markdown",
      "metadata": {
        "id": "awLFeVqDXgV2"
      },
      "source": [
        "# Obtain metrics"
      ]
    },
    {
      "cell_type": "code",
      "execution_count": null,
      "metadata": {
        "colab": {
          "base_uri": "https://localhost:8080/",
          "height": 564
        },
        "id": "NusZDsY_VaOW",
        "outputId": "a198c7f6-808a-4ffb-d958-6d8c1df68a16"
      },
      "outputs": [
        {
          "data": {
            "image/png": "[encoded data removed]",
            "text/plain": [
              "<Figure size 1000x600 with 1 Axes>"
            ]
          },
          "metadata": {},
          "output_type": "display_data"
        }
      ],
      "source": [
        "# Construct the paths to the JSON files\n",
        "project_root = os.path.abspath(os.path.join(current_dir, '..'))\n",
        "results_dir = os.path.join(project_root, 'results/Mean_Attention_Removal')\n",
        "\n",
        "custom_model_path = os.path.join(results_dir, 'generation_results_custom_model_50_with_flops.json')\n",
        "gpt2_model_path = os.path.join(results_dir, 'generation_results_model_gpt_2_50_with_flops.json')\n",
        "\n",
        "# Load the results from JSON files\n",
        "with open(custom_model_path, 'r') as f:\n",
        "    custom_model_results = json.load(f)\n",
        "\n",
        "with open(gpt2_model_path, 'r') as f:\n",
        "    gpt2_model_results = json.load(f)\n",
        "\n",
        "figsize = (10, 6)\n",
        "\n",
        "# plot average times\n",
        "plot_averages(custom_model_results, gpt2_model_results, key=\"time_taken\", ylabel='Average Time (s)', title='Average Generation Time by Length for TopK Model vs GPT-2 Model', figsize=figsize)"
      ]
    },
    {
      "cell_type": "code",
      "execution_count": null,
      "metadata": {
        "colab": {
          "base_uri": "https://localhost:8080/",
          "height": 564
        },
        "id": "lJq3peeRVu7g",
        "outputId": "4b76db02-2ebb-41d2-ca2c-583ead19dcc3"
      },
      "outputs": [
        {
          "data": {
            "image/png": "[encoded data removed]",
            "text/plain": [
              "<Figure size 1000x600 with 1 Axes>"
            ]
          },
          "metadata": {},
          "output_type": "display_data"
        }
      ],
      "source": [
        "# plot average FLOPs\n",
        "plot_averages(custom_model_results, gpt2_model_results, key=\"flops\", ylabel='Average FLOPs', title='Average Generation FLOPs by Length for TopK Model vs GPT-2 Model', figsize=figsize)"
      ]
    },
    {
      "cell_type": "markdown",
      "metadata": {
        "id": "PSS7808LL9u2"
      },
      "source": [
        "# BertScore"
      ]
    },
    {
      "cell_type": "code",
      "execution_count": null,
      "metadata": {
        "colab": {
          "base_uri": "https://localhost:8080/"
        },
        "id": "poS_ixA-L9u3",
        "outputId": "7c1ae614-467e-4a58-c545-05affadb2ef5"
      },
      "outputs": [
        {
          "data": {
            "text/plain": [
              "0.76342946"
            ]
          },
          "execution_count": 11,
          "metadata": {},
          "output_type": "execute_result"
        }
      ],
      "source": [
        "# initialize BERT tokenizer and model\n",
        "tokenizer = AutoTokenizer.from_pretrained('bert-base-uncased')\n",
        "model = AutoModel.from_pretrained('bert-base-uncased')\n",
        "\n",
        "# function to get BERT embeddings\n",
        "def get_bert_embeddings(text):\n",
        "    inputs = tokenizer(text, return_tensors='pt', max_length=512, truncation=True)\n",
        "    outputs = model(**inputs)\n",
        "    embeddings = outputs.last_hidden_state.mean(dim=1)\n",
        "    return embeddings.detach().numpy()\n",
        "\n",
        "gpt2_generated_embeddings = []\n",
        "custom_generated_embeddings = []\n",
        "\n",
        "for result in gpt2_model_results:\n",
        "    generated_text = result['generated_text']\n",
        "    embedding = get_bert_embeddings(generated_text)\n",
        "    gpt2_generated_embeddings.append(embedding)\n",
        "\n",
        "for result in custom_model_results:\n",
        "    generated_text = result['generated_text']\n",
        "    embedding = get_bert_embeddings(generated_text)\n",
        "    custom_generated_embeddings.append(embedding)\n",
        "\n",
        "gpt2_generated_embeddings = np.vstack(gpt2_generated_embeddings)\n",
        "custom_generated_embeddings = np.vstack(custom_generated_embeddings)\n",
        "\n",
        "similarities = []\n",
        "\n",
        "for gpt2_emb, custom_emb in zip(gpt2_generated_embeddings, custom_generated_embeddings):\n",
        "    similarity = cosine_similarity([gpt2_emb], [custom_emb]).mean()\n",
        "    similarities.append(similarity)\n",
        "\n",
        "average_similarity = np.mean(similarities)\n",
        "average_similarity"
      ]
    },
    {
      "cell_type": "markdown",
      "metadata": {
        "id": "ID_dd1WIL9u3"
      },
      "source": [
        "# bert_score"
      ]
    },
    {
      "cell_type": "code",
      "execution_count": null,
      "metadata": {
        "colab": {
          "base_uri": "https://localhost:8080/"
        },
        "id": "CjxCdgo0L9u3",
        "outputId": "072b63fa-a7af-4187-dcd4-5f8f855c9561"
      },
      "outputs": [
        {
          "name": "stdout",
          "output_type": "stream",
          "text": [
            "Successfully installed bert_score-0.3.13 nvidia-cublas-cu12-12.1.3.1 nvidia-cuda-cupti-cu12-12.1.105 nvidia-cuda-nvrtc-cu12-12.1.105 nvidia-cuda-runtime-cu12-12.1.105 nvidia-cudnn-cu12-8.9.2.26 nvidia-cufft-cu12-11.0.2.54 nvidia-curand-cu12-10.3.2.106 nvidia-cusolver-cu12-11.4.5.107 nvidia-cusparse-cu12-12.1.0.106 nvidia-nccl-cu12-2.20.5 nvidia-nvjitlink-cu12-12.5.40 nvidia-nvtx-cu12-12.1.105\n"
          ]
        }
      ],
      "source": [
        "!pip install transformers torch bert_score"
      ]
    },
    {
      "cell_type": "code",
      "execution_count": null,
      "metadata": {
        "colab": {
          "base_uri": "https://localhost:8080/",
          "height": 237,
          "referenced_widgets": [
            "4ea15a04cdfa44c691cf76ff4174932b",
            "9124210b547642b3b5cd151d901dbf74",
            "0379e42adc2446e9953bfc1c3839484f",
            "b73fa34eed7d4e488bbd30571752aa8f",
            "21a2ebc530ba4c159c5e64e1735bbb07",
            "60dd26a19084482081158f2a9836c324",
            "db7205ad91174646bab4cbb19f2b68f0",
            "eec8b2fa9af14572b34fe6ee925451c9",
            "6b45f3a753e04e48850b799604e692e8",
            "eca7f5057dc74c7f8a1b4d69192e3d0a",
            "bdd76f3e47fa4d398a8b654d8015708c",
            "ad2d0dd3b17e4ae890f31c6b844ab154",
            "1998d976fe6c47c781d8245c226bec00",
            "12b32ec2fb43457098bef5f9039fc380",
            "bfb958e4b14849959dd74c2ff869249e",
            "9e0ef4cc5cf84366866cda03696f13ba",
            "b31f36c9d0a74679817bda0ac7422f15",
            "7e5e84520b844926a550f66e6783df96",
            "7a79e9a2497c4c7a9817ccf2be210726",
            "fb1f185bf5714d7ea28fdef776e86229",
            "c92ae946e46f42229d8a0fb817b626fc",
            "c531cd352d04458a8ffe8a1d61d373e3"
          ]
        },
        "id": "44gDgmXrL9u4",
        "outputId": "46aa752f-128f-4e24-9117-2f36fa97fc84"
      },
      "outputs": [
        {
          "name": "stderr",
          "output_type": "stream",
          "text": [
            "Some weights of RobertaModel were not initialized from the model checkpoint at roberta-large and are newly initialized: ['roberta.pooler.dense.bias', 'roberta.pooler.dense.weight']\n",
            "You should probably TRAIN this model on a down-stream task to be able to use it for predictions and inference.\n"
          ]
        },
        {
          "name": "stdout",
          "output_type": "stream",
          "text": [
            "calculating scores...\n",
            "computing bert embedding.\n"
          ]
        },
        {
          "data": {
            "application/vnd.jupyter.widget-view+json": {
              "model_id": "4ea15a04cdfa44c691cf76ff4174932b",
              "version_major": 2,
              "version_minor": 0
            },
            "text/plain": [
              "  0%|          | 0/11 [00:00<?, ?it/s]"
            ]
          },
          "metadata": {},
          "output_type": "display_data"
        },
        {
          "name": "stdout",
          "output_type": "stream",
          "text": [
            "computing greedy matching.\n"
          ]
        },
        {
          "data": {
            "application/vnd.jupyter.widget-view+json": {
              "model_id": "ad2d0dd3b17e4ae890f31c6b844ab154",
              "version_major": 2,
              "version_minor": 0
            },
            "text/plain": [
              "  0%|          | 0/6 [00:00<?, ?it/s]"
            ]
          },
          "metadata": {},
          "output_type": "display_data"
        },
        {
          "name": "stdout",
          "output_type": "stream",
          "text": [
            "done in 26.93 seconds, 13.00 sentences/sec\n",
            "Average Precision: 0.8391859531402588\n",
            "Average Recall: 0.8304443359375\n",
            "Average F1: 0.8344979286193848\n"
          ]
        }
      ],
      "source": [
        "from bert_score import score\n",
        "\n",
        "gpt2_generated_texts = [result['generated_text'] for result in gpt2_model_results]\n",
        "custom_generated_texts = [result['generated_text'] for result in custom_model_results]\n",
        "\n",
        "# BERTScore\n",
        "P, R, F1 = score(gpt2_generated_texts, custom_generated_texts, lang=\"en\", verbose=True)\n",
        "\n",
        "# average BERTScores\n",
        "average_precision = P.mean().item()\n",
        "average_recall = R.mean().item()\n",
        "average_f1 = F1.mean().item()\n",
        "\n",
        "print(f\"Average Precision: {average_precision}\")\n",
        "print(f\"Average Recall: {average_recall}\")\n",
        "print(f\"Average F1: {average_f1}\")"
      ]
    },
    {
      "cell_type": "markdown",
      "metadata": {
        "id": "qcawQnCGS8Dk"
      },
      "source": [
        "# ROGUE Score"
      ]
    },
    {
      "cell_type": "code",
      "execution_count": null,
      "metadata": {
        "colab": {
          "base_uri": "https://localhost:8080/"
        },
        "id": "jG_-RghaTAGw",
        "outputId": "e35df6ee-71ac-4cf4-a924-72bbc846859a"
      },
      "outputs": [
        {
          "name": "stdout",
          "output_type": "stream",
          "text": [
            "Installing collected packages: rouge-score\n",
            "Successfully installed rouge-score-0.1.2\n"
          ]
        }
      ],
      "source": [
        "!pip install rouge-score"
      ]
    },
    {
      "cell_type": "code",
      "execution_count": null,
      "metadata": {
        "colab": {
          "base_uri": "https://localhost:8080/"
        },
        "id": "N48XTazvTMXm",
        "outputId": "3eadc926-ab09-437c-8e74-aa44daaf706d"
      },
      "outputs": [
        {
          "name": "stdout",
          "output_type": "stream",
          "text": [
            "Average ROUGE-1 Score: 0.3\n",
            "Average ROUGE-2 Score: 0.14\n",
            "Average ROUGE-L Score: 0.27\n"
          ]
        }
      ],
      "source": [
        "from rouge_score import rouge_scorer\n",
        "\n",
        "gpt2_texts = [result['generated_text'] for result in gpt2_model_results]\n",
        "custom_texts = [result['generated_text'] for result in custom_model_results]\n",
        "\n",
        "# Initialize ROUGE scorer\n",
        "scorer = rouge_scorer.RougeScorer(['rouge1', 'rouge2', 'rougeL'], use_stemmer=True)\n",
        "\n",
        "# compute ROUGE scores\n",
        "rouge1_scores = []\n",
        "rouge2_scores = []\n",
        "rougeL_scores = []\n",
        "\n",
        "for gpt2_text, custom_text in zip(gpt2_texts, custom_texts):\n",
        "    scores = scorer.score(gpt2_text, custom_text)\n",
        "    rouge1_scores.append(scores['rouge1'].fmeasure)\n",
        "    rouge2_scores.append(scores['rouge2'].fmeasure)\n",
        "    rougeL_scores.append(scores['rougeL'].fmeasure)\n",
        "\n",
        "# average ROUGE scores\n",
        "average_rouge1 = sum(rouge1_scores) / len(rouge1_scores)\n",
        "average_rouge2 = sum(rouge2_scores) / len(rouge2_scores)\n",
        "average_rougeL = sum(rougeL_scores) / len(rougeL_scores)\n",
        "\n",
        "print(\"Average ROUGE-1 Score:\", round(average_rouge1,2))\n",
        "print(\"Average ROUGE-2 Score:\", round(average_rouge2,2))\n",
        "print(\"Average ROUGE-L Score:\", round(average_rougeL,2))"
      ]
    },
    {
      "cell_type": "code",
      "execution_count": null,
      "metadata": {
        "colab": {
          "base_uri": "https://localhost:8080/"
        },
        "id": "cD6QenftT4Y_",
        "outputId": "e6c8ab39-f98d-4dd1-ae85-00afb5e4a868"
      },
      "outputs": [
        {
          "name": "stdout",
          "output_type": "stream",
          "text": [
            "Average ROUGE-1 Score: 0.36\n",
            "Average ROUGE-2 Score: 0.2\n",
            "Average ROUGE-L Score: 0.34\n"
          ]
        }
      ],
      "source": [
        "# Load the datasets\n",
        "with open(gpt2_model_path, 'r') as f:\n",
        "    gpt2_results = json.load(f)\n",
        "\n",
        "with open(custom_model_path, 'r') as f:\n",
        "    custom_results = json.load(f)\n",
        "\n",
        "# Filter out results with lengths 100, 200, and 300\n",
        "filtered_gpt2_results = [result for result in gpt2_results if result['lengths'] not in [50,100, 200, 300]]\n",
        "filtered_custom_results = [result for result in custom_results if result['lengths'] not in [50,100, 200, 300]]\n",
        "\n",
        "# Extract generated texts from the filtered results\n",
        "filtered_gpt2_texts = [result['generated_text'] for result in filtered_gpt2_results]\n",
        "filtered_custom_texts = [result['generated_text'] for result in filtered_custom_results]\n",
        "\n",
        "# Initialize ROUGE scorer\n",
        "scorer = rouge_scorer.RougeScorer(['rouge1', 'rouge2', 'rougeL'], use_stemmer=True)\n",
        "\n",
        "# Compute ROUGE scores\n",
        "rouge1_scores = []\n",
        "rouge2_scores = []\n",
        "rougeL_scores = []\n",
        "\n",
        "for gpt2_text, custom_text in zip(filtered_gpt2_texts, filtered_custom_texts):\n",
        "    scores = scorer.score(gpt2_text, custom_text)\n",
        "    rouge1_scores.append(scores['rouge1'].fmeasure)\n",
        "    rouge2_scores.append(scores['rouge2'].fmeasure)\n",
        "    rougeL_scores.append(scores['rougeL'].fmeasure)\n",
        "\n",
        "# Calculate average ROUGE scores\n",
        "average_rouge1 = sum(rouge1_scores) / len(rouge1_scores)\n",
        "average_rouge2 = sum(rouge2_scores) / len(rouge2_scores)\n",
        "average_rougeL = sum(rougeL_scores) / len(rougeL_scores)\n",
        "\n",
        "print(\"Average ROUGE-1 Score:\", round(average_rouge1,2))\n",
        "print(\"Average ROUGE-2 Score:\", round(average_rouge2,2))\n",
        "print(\"Average ROUGE-L Score:\", round(average_rougeL,2))"
      ]
    },
    {
      "cell_type": "markdown",
      "metadata": {
        "id": "TYWjtyWh7DyO"
      },
      "source": [
        "# Perplexity"
      ]
    },
    {
      "cell_type": "markdown",
      "metadata": {
        "id": "hYEw7nC39Txe"
      },
      "source": [
        "Reference: https://huggingface.co/docs/transformers/perplexity"
      ]
    },
    {
      "cell_type": "code",
      "execution_count": null,
      "metadata": {
        "id": "YcxpBawx7GnT"
      },
      "outputs": [],
      "source": [
        "test = load_dataset(\"wikitext\", \"wikitext-2-raw-v1\", split=\"test\")\n",
        "encodings = tokenizer(\"\\n\\n\".join(test[\"text\"]), return_tensors=\"pt\")"
      ]
    },
    {
      "cell_type": "code",
      "execution_count": null,
      "metadata": {
        "id": "zOLbZ8oN7cwj"
      },
      "outputs": [],
      "source": [
        "log_probs_gpt2 = evaluate_perplexity(model_gpt, encodings, 20)\n",
        "# Calculate final perplexity\n",
        "avg_log_prob_gpt2 = np.mean(log_probs_gpt2)\n",
        "perplexity_gpt2 = np.exp(-avg_log_prob_gpt2)\n",
        "\n",
        "print(\"Final Perplexity:\", perplexity_gpt2)"
      ]
    },
    {
      "cell_type": "code",
      "execution_count": null,
      "metadata": {
        "colab": {
          "base_uri": "https://localhost:8080/"
        },
        "id": "i1IuRby9IXvS",
        "outputId": "a78b12d9-30de-482e-a064-6bd871102f4c"
      },
      "outputs": [
        {
          "data": {
            "text/plain": [
              "33.47348659116395"
            ]
          },
          "execution_count": 127,
          "metadata": {},
          "output_type": "execute_result"
        }
      ],
      "source": [
        "perplexity_gpt2"
      ]
    },
    {
      "cell_type": "code",
      "execution_count": null,
      "metadata": {
        "id": "y2ddvSMs8Eml"
      },
      "outputs": [],
      "source": [
        "df = pd.DataFrame(log_probs_gpt2, columns=[\"log_prob\"])\n",
        "\n",
        "# Save to CSV\n",
        "file_path = \"results/Mean_Attention_Removal/log_probs_gpt2.csv\"\n",
        "df.to_csv(file_path, index=False)"
      ]
    },
    {
      "cell_type": "code",
      "execution_count": null,
      "metadata": {
        "id": "WrUfLpjjAJlu"
      },
      "outputs": [],
      "source": [
        "log_probs_topK = evaluate_perplexity(custom_model, encodings, 20)\n",
        "# Calculate final perplexity\n",
        "avg_log_probs_topK = np.mean(log_probs_topK)\n",
        "perplexity_topK = np.exp(-avg_log_probs_topK)\n",
        "\n",
        "print(\"Final Perplexity:\", perplexity_topK)"
      ]
    },
    {
      "cell_type": "code",
      "execution_count": null,
      "metadata": {
        "colab": {
          "base_uri": "https://localhost:8080/"
        },
        "id": "8EX-zuEoIU1R",
        "outputId": "85010949-fdf9-4edd-88c8-2e3c03b9c81f"
      },
      "outputs": [
        {
          "data": {
            "text/plain": [
              "48.890736229323025"
            ]
          },
          "execution_count": 126,
          "metadata": {},
          "output_type": "execute_result"
        }
      ],
      "source": [
        "perplexity_topK"
      ]
    },
    {
      "cell_type": "code",
      "execution_count": null,
      "metadata": {
        "id": "a2Z-26unD07y"
      },
      "outputs": [],
      "source": [
        "df = pd.DataFrame(log_probs_topK, columns=[\"log_prob\"])\n",
        "\n",
        "# Save to CSV\n",
        "file_path = \"results/Mean_Attention_Removal/log_probs_topK.csv\"\n",
        "df.to_csv(file_path, index=False)"
      ]
    }
  ],
  "metadata": {
    "accelerator": "GPU",
    "colab": {
      "gpuType": "T4",
      "provenance": []
    },
    "kernelspec": {
      "display_name": "Python 3",
      "name": "python3"
    },
    "language_info": {
      "codemirror_mode": {
        "name": "ipython",
        "version": 3
      },
      "file_extension": ".py",
      "mimetype": "text/x-python",
      "name": "python",
      "nbconvert_exporter": "python",
      "pygments_lexer": "ipython3",
      "version": "3.11.5"
    },
    "widgets": {
      "application/vnd.jupyter.widget-state+json": {
        "0336989e3d7640b290187f7e362d6710": {
          "model_module": "@jupyter-widgets/controls",
          "model_module_version": "1.5.0",
          "model_name": "HBoxModel",
          "state": {
            "_dom_classes": [],
            "_model_module": "@jupyter-widgets/controls",
            "_model_module_version": "1.5.0",
            "_model_name": "HBoxModel",
            "_view_count": null,
            "_view_module": "@jupyter-widgets/controls",
            "_view_module_version": "1.5.0",
            "_view_name": "HBoxView",
            "box_style": "",
            "children": [
              "IPY_MODEL_d023b88b5b2b4eaa873a1486b8d60209",
              "IPY_MODEL_b6c18c1bb73c4700b4c4e64ad41d42e5",
              "IPY_MODEL_6369890ebb744c11a96acf1a209a6ac8"
            ],
            "layout": "IPY_MODEL_6f127be6dabb4f43a3f7df12da818111"
          }
        },
        "0379e42adc2446e9953bfc1c3839484f": {
          "model_module": "@jupyter-widgets/controls",
          "model_module_version": "1.5.0",
          "model_name": "FloatProgressModel",
          "state": {
            "_dom_classes": [],
            "_model_module": "@jupyter-widgets/controls",
            "_model_module_version": "1.5.0",
            "_model_name": "FloatProgressModel",
            "_view_count": null,
            "_view_module": "@jupyter-widgets/controls",
            "_view_module_version": "1.5.0",
            "_view_name": "ProgressView",
            "bar_style": "success",
            "description": "",
            "description_tooltip": null,
            "layout": "IPY_MODEL_eec8b2fa9af14572b34fe6ee925451c9",
            "max": 11,
            "min": 0,
            "orientation": "horizontal",
            "style": "IPY_MODEL_6b45f3a753e04e48850b799604e692e8",
            "value": 11
          }
        },
        "07c897c786004c77b9cc85b92a11d537": {
          "model_module": "@jupyter-widgets/controls",
          "model_module_version": "1.5.0",
          "model_name": "ProgressStyleModel",
          "state": {
            "_model_module": "@jupyter-widgets/controls",
            "_model_module_version": "1.5.0",
            "_model_name": "ProgressStyleModel",
            "_view_count": null,
            "_view_module": "@jupyter-widgets/base",
            "_view_module_version": "1.2.0",
            "_view_name": "StyleView",
            "bar_color": null,
            "description_width": ""
          }
        },
        "0b26750a606348a0b6228d5cb5373bc5": {
          "model_module": "@jupyter-widgets/controls",
          "model_module_version": "1.5.0",
          "model_name": "DescriptionStyleModel",
          "state": {
            "_model_module": "@jupyter-widgets/controls",
            "_model_module_version": "1.5.0",
            "_model_name": "DescriptionStyleModel",
            "_view_count": null,
            "_view_module": "@jupyter-widgets/base",
            "_view_module_version": "1.2.0",
            "_view_name": "StyleView",
            "description_width": ""
          }
        },
        "1009a623490948f3ab62b32365e10c0b": {
          "model_module": "@jupyter-widgets/controls",
          "model_module_version": "1.5.0",
          "model_name": "FloatProgressModel",
          "state": {
            "_dom_classes": [],
            "_model_module": "@jupyter-widgets/controls",
            "_model_module_version": "1.5.0",
            "_model_name": "FloatProgressModel",
            "_view_count": null,
            "_view_module": "@jupyter-widgets/controls",
            "_view_module_version": "1.5.0",
            "_view_name": "ProgressView",
            "bar_style": "success",
            "description": "",
            "description_tooltip": null,
            "layout": "IPY_MODEL_4e1b1a2e920e4f6d9c3751dca9b5d7a2",
            "max": 1234829,
            "min": 0,
            "orientation": "horizontal",
            "style": "IPY_MODEL_5afa0afca80f4d29aaeaa48b1d0190fe",
            "value": 1234829
          }
        },
        "12b32ec2fb43457098bef5f9039fc380": {
          "model_module": "@jupyter-widgets/controls",
          "model_module_version": "1.5.0",
          "model_name": "FloatProgressModel",
          "state": {
            "_dom_classes": [],
            "_model_module": "@jupyter-widgets/controls",
            "_model_module_version": "1.5.0",
            "_model_name": "FloatProgressModel",
            "_view_count": null,
            "_view_module": "@jupyter-widgets/controls",
            "_view_module_version": "1.5.0",
            "_view_name": "ProgressView",
            "bar_style": "success",
            "description": "",
            "description_tooltip": null,
            "layout": "IPY_MODEL_7a79e9a2497c4c7a9817ccf2be210726",
            "max": 6,
            "min": 0,
            "orientation": "horizontal",
            "style": "IPY_MODEL_fb1f185bf5714d7ea28fdef776e86229",
            "value": 6
          }
        },
        "1652224526c0481b9cc9afcc262def39": {
          "model_module": "@jupyter-widgets/base",
          "model_module_version": "1.2.0",
          "model_name": "LayoutModel",
          "state": {
            "_model_module": "@jupyter-widgets/base",
            "_model_module_version": "1.2.0",
            "_model_name": "LayoutModel",
            "_view_count": null,
            "_view_module": "@jupyter-widgets/base",
            "_view_module_version": "1.2.0",
            "_view_name": "LayoutView",
            "align_content": null,
            "align_items": null,
            "align_self": null,
            "border": null,
            "bottom": null,
            "display": null,
            "flex": null,
            "flex_flow": null,
            "grid_area": null,
            "grid_auto_columns": null,
            "grid_auto_flow": null,
            "grid_auto_rows": null,
            "grid_column": null,
            "grid_gap": null,
            "grid_row": null,
            "grid_template_areas": null,
            "grid_template_columns": null,
            "grid_template_rows": null,
            "height": null,
            "justify_content": null,
            "justify_items": null,
            "left": null,
            "margin": null,
            "max_height": null,
            "max_width": null,
            "min_height": null,
            "min_width": null,
            "object_fit": null,
            "object_position": null,
            "order": null,
            "overflow": null,
            "overflow_x": null,
            "overflow_y": null,
            "padding": null,
            "right": null,
            "top": null,
            "visibility": null,
            "width": null
          }
        },
        "1998d976fe6c47c781d8245c226bec00": {
          "model_module": "@jupyter-widgets/controls",
          "model_module_version": "1.5.0",
          "model_name": "HTMLModel",
          "state": {
            "_dom_classes": [],
            "_model_module": "@jupyter-widgets/controls",
            "_model_module_version": "1.5.0",
            "_model_name": "HTMLModel",
            "_view_count": null,
            "_view_module": "@jupyter-widgets/controls",
            "_view_module_version": "1.5.0",
            "_view_name": "HTMLView",
            "description": "",
            "description_tooltip": null,
            "layout": "IPY_MODEL_b31f36c9d0a74679817bda0ac7422f15",
            "placeholder": "​",
            "style": "IPY_MODEL_7e5e84520b844926a550f66e6783df96",
            "value": "100%"
          }
        },
        "21a2ebc530ba4c159c5e64e1735bbb07": {
          "model_module": "@jupyter-widgets/base",
          "model_module_version": "1.2.0",
          "model_name": "LayoutModel",
          "state": {
            "_model_module": "@jupyter-widgets/base",
            "_model_module_version": "1.2.0",
            "_model_name": "LayoutModel",
            "_view_count": null,
            "_view_module": "@jupyter-widgets/base",
            "_view_module_version": "1.2.0",
            "_view_name": "LayoutView",
            "align_content": null,
            "align_items": null,
            "align_self": null,
            "border": null,
            "bottom": null,
            "display": null,
            "flex": null,
            "flex_flow": null,
            "grid_area": null,
            "grid_auto_columns": null,
            "grid_auto_flow": null,
            "grid_auto_rows": null,
            "grid_column": null,
            "grid_gap": null,
            "grid_row": null,
            "grid_template_areas": null,
            "grid_template_columns": null,
            "grid_template_rows": null,
            "height": null,
            "justify_content": null,
            "justify_items": null,
            "left": null,
            "margin": null,
            "max_height": null,
            "max_width": null,
            "min_height": null,
            "min_width": null,
            "object_fit": null,
            "object_position": null,
            "order": null,
            "overflow": null,
            "overflow_x": null,
            "overflow_y": null,
            "padding": null,
            "right": null,
            "top": null,
            "visibility": null,
            "width": null
          }
        },
        "2a1378a41aea4936a5c9d609f400336e": {
          "model_module": "@jupyter-widgets/controls",
          "model_module_version": "1.5.0",
          "model_name": "DescriptionStyleModel",
          "state": {
            "_model_module": "@jupyter-widgets/controls",
            "_model_module_version": "1.5.0",
            "_model_name": "DescriptionStyleModel",
            "_view_count": null,
            "_view_module": "@jupyter-widgets/base",
            "_view_module_version": "1.2.0",
            "_view_name": "StyleView",
            "description_width": ""
          }
        },
        "2db0c44edb854cb5a28c563ad660f8d6": {
          "model_module": "@jupyter-widgets/base",
          "model_module_version": "1.2.0",
          "model_name": "LayoutModel",
          "state": {
            "_model_module": "@jupyter-widgets/base",
            "_model_module_version": "1.2.0",
            "_model_name": "LayoutModel",
            "_view_count": null,
            "_view_module": "@jupyter-widgets/base",
            "_view_module_version": "1.2.0",
            "_view_name": "LayoutView",
            "align_content": null,
            "align_items": null,
            "align_self": null,
            "border": null,
            "bottom": null,
            "display": null,
            "flex": null,
            "flex_flow": null,
            "grid_area": null,
            "grid_auto_columns": null,
            "grid_auto_flow": null,
            "grid_auto_rows": null,
            "grid_column": null,
            "grid_gap": null,
            "grid_row": null,
            "grid_template_areas": null,
            "grid_template_columns": null,
            "grid_template_rows": null,
            "height": null,
            "justify_content": null,
            "justify_items": null,
            "left": null,
            "margin": null,
            "max_height": null,
            "max_width": null,
            "min_height": null,
            "min_width": null,
            "object_fit": null,
            "object_position": null,
            "order": null,
            "overflow": null,
            "overflow_x": null,
            "overflow_y": null,
            "padding": null,
            "right": null,
            "top": null,
            "visibility": null,
            "width": null
          }
        },
        "36699e3605924606976caada927a2be5": {
          "model_module": "@jupyter-widgets/base",
          "model_module_version": "1.2.0",
          "model_name": "LayoutModel",
          "state": {
            "_model_module": "@jupyter-widgets/base",
            "_model_module_version": "1.2.0",
            "_model_name": "LayoutModel",
            "_view_count": null,
            "_view_module": "@jupyter-widgets/base",
            "_view_module_version": "1.2.0",
            "_view_name": "LayoutView",
            "align_content": null,
            "align_items": null,
            "align_self": null,
            "border": null,
            "bottom": null,
            "display": null,
            "flex": null,
            "flex_flow": null,
            "grid_area": null,
            "grid_auto_columns": null,
            "grid_auto_flow": null,
            "grid_auto_rows": null,
            "grid_column": null,
            "grid_gap": null,
            "grid_row": null,
            "grid_template_areas": null,
            "grid_template_columns": null,
            "grid_template_rows": null,
            "height": null,
            "justify_content": null,
            "justify_items": null,
            "left": null,
            "margin": null,
            "max_height": null,
            "max_width": null,
            "min_height": null,
            "min_width": null,
            "object_fit": null,
            "object_position": null,
            "order": null,
            "overflow": null,
            "overflow_x": null,
            "overflow_y": null,
            "padding": null,
            "right": null,
            "top": null,
            "visibility": null,
            "width": null
          }
        },
        "4664bd72f04f46ecb5cc6348143119f3": {
          "model_module": "@jupyter-widgets/base",
          "model_module_version": "1.2.0",
          "model_name": "LayoutModel",
          "state": {
            "_model_module": "@jupyter-widgets/base",
            "_model_module_version": "1.2.0",
            "_model_name": "LayoutModel",
            "_view_count": null,
            "_view_module": "@jupyter-widgets/base",
            "_view_module_version": "1.2.0",
            "_view_name": "LayoutView",
            "align_content": null,
            "align_items": null,
            "align_self": null,
            "border": null,
            "bottom": null,
            "display": null,
            "flex": null,
            "flex_flow": null,
            "grid_area": null,
            "grid_auto_columns": null,
            "grid_auto_flow": null,
            "grid_auto_rows": null,
            "grid_column": null,
            "grid_gap": null,
            "grid_row": null,
            "grid_template_areas": null,
            "grid_template_columns": null,
            "grid_template_rows": null,
            "height": null,
            "justify_content": null,
            "justify_items": null,
            "left": null,
            "margin": null,
            "max_height": null,
            "max_width": null,
            "min_height": null,
            "min_width": null,
            "object_fit": null,
            "object_position": null,
            "order": null,
            "overflow": null,
            "overflow_x": null,
            "overflow_y": null,
            "padding": null,
            "right": null,
            "top": null,
            "visibility": null,
            "width": null
          }
        },
        "4bec9aba29924ee3afa2cafac7184651": {
          "model_module": "@jupyter-widgets/controls",
          "model_module_version": "1.5.0",
          "model_name": "HTMLModel",
          "state": {
            "_dom_classes": [],
            "_model_module": "@jupyter-widgets/controls",
            "_model_module_version": "1.5.0",
            "_model_name": "HTMLModel",
            "_view_count": null,
            "_view_module": "@jupyter-widgets/controls",
            "_view_module_version": "1.5.0",
            "_view_name": "HTMLView",
            "description": "",
            "description_tooltip": null,
            "layout": "IPY_MODEL_81fa26941fa441439ec7e93e1bf086d8",
            "placeholder": "​",
            "style": "IPY_MODEL_2a1378a41aea4936a5c9d609f400336e",
            "value": "Downloading readme: 100%"
          }
        },
        "4bfc6b9e688a4633879c23cbf3fda8d1": {
          "model_module": "@jupyter-widgets/controls",
          "model_module_version": "1.5.0",
          "model_name": "ProgressStyleModel",
          "state": {
            "_model_module": "@jupyter-widgets/controls",
            "_model_module_version": "1.5.0",
            "_model_name": "ProgressStyleModel",
            "_view_count": null,
            "_view_module": "@jupyter-widgets/base",
            "_view_module_version": "1.2.0",
            "_view_name": "StyleView",
            "bar_color": null,
            "description_width": ""
          }
        },
        "4e1b1a2e920e4f6d9c3751dca9b5d7a2": {
          "model_module": "@jupyter-widgets/base",
          "model_module_version": "1.2.0",
          "model_name": "LayoutModel",
          "state": {
            "_model_module": "@jupyter-widgets/base",
            "_model_module_version": "1.2.0",
            "_model_name": "LayoutModel",
            "_view_count": null,
            "_view_module": "@jupyter-widgets/base",
            "_view_module_version": "1.2.0",
            "_view_name": "LayoutView",
            "align_content": null,
            "align_items": null,
            "align_self": null,
            "border": null,
            "bottom": null,
            "display": null,
            "flex": null,
            "flex_flow": null,
            "grid_area": null,
            "grid_auto_columns": null,
            "grid_auto_flow": null,
            "grid_auto_rows": null,
            "grid_column": null,
            "grid_gap": null,
            "grid_row": null,
            "grid_template_areas": null,
            "grid_template_columns": null,
            "grid_template_rows": null,
            "height": null,
            "justify_content": null,
            "justify_items": null,
            "left": null,
            "margin": null,
            "max_height": null,
            "max_width": null,
            "min_height": null,
            "min_width": null,
            "object_fit": null,
            "object_position": null,
            "order": null,
            "overflow": null,
            "overflow_x": null,
            "overflow_y": null,
            "padding": null,
            "right": null,
            "top": null,
            "visibility": null,
            "width": null
          }
        },
        "4ea15a04cdfa44c691cf76ff4174932b": {
          "model_module": "@jupyter-widgets/controls",
          "model_module_version": "1.5.0",
          "model_name": "HBoxModel",
          "state": {
            "_dom_classes": [],
            "_model_module": "@jupyter-widgets/controls",
            "_model_module_version": "1.5.0",
            "_model_name": "HBoxModel",
            "_view_count": null,
            "_view_module": "@jupyter-widgets/controls",
            "_view_module_version": "1.5.0",
            "_view_name": "HBoxView",
            "box_style": "",
            "children": [
              "IPY_MODEL_9124210b547642b3b5cd151d901dbf74",
              "IPY_MODEL_0379e42adc2446e9953bfc1c3839484f",
              "IPY_MODEL_b73fa34eed7d4e488bbd30571752aa8f"
            ],
            "layout": "IPY_MODEL_21a2ebc530ba4c159c5e64e1735bbb07"
          }
        },
        "4ef0114495be4a6f8ec08bb3ad936617": {
          "model_module": "@jupyter-widgets/controls",
          "model_module_version": "1.5.0",
          "model_name": "HTMLModel",
          "state": {
            "_dom_classes": [],
            "_model_module": "@jupyter-widgets/controls",
            "_model_module_version": "1.5.0",
            "_model_name": "HTMLModel",
            "_view_count": null,
            "_view_module": "@jupyter-widgets/controls",
            "_view_module_version": "1.5.0",
            "_view_name": "HTMLView",
            "description": "",
            "description_tooltip": null,
            "layout": "IPY_MODEL_2db0c44edb854cb5a28c563ad660f8d6",
            "placeholder": "​",
            "style": "IPY_MODEL_91731e6fb58440868395aa9c69bf356f",
            "value": " 1.23M/1.23M [00:00&lt;00:00, 2.36MB/s]"
          }
        },
        "4fa9308d74f54899827dd724ddd25db6": {
          "model_module": "@jupyter-widgets/controls",
          "model_module_version": "1.5.0",
          "model_name": "FloatProgressModel",
          "state": {
            "_dom_classes": [],
            "_model_module": "@jupyter-widgets/controls",
            "_model_module_version": "1.5.0",
            "_model_name": "FloatProgressModel",
            "_view_count": null,
            "_view_module": "@jupyter-widgets/controls",
            "_view_module_version": "1.5.0",
            "_view_name": "ProgressView",
            "bar_style": "success",
            "description": "",
            "description_tooltip": null,
            "layout": "IPY_MODEL_9d63a25c8ecb4fccaa2254bf0573f4d3",
            "max": 18585438,
            "min": 0,
            "orientation": "horizontal",
            "style": "IPY_MODEL_4bfc6b9e688a4633879c23cbf3fda8d1",
            "value": 18585438
          }
        },
        "50fb2835a4fc4b3f94ddb894435235cc": {
          "model_module": "@jupyter-widgets/controls",
          "model_module_version": "1.5.0",
          "model_name": "HTMLModel",
          "state": {
            "_dom_classes": [],
            "_model_module": "@jupyter-widgets/controls",
            "_model_module_version": "1.5.0",
            "_model_name": "HTMLModel",
            "_view_count": null,
            "_view_module": "@jupyter-widgets/controls",
            "_view_module_version": "1.5.0",
            "_view_name": "HTMLView",
            "description": "",
            "description_tooltip": null,
            "layout": "IPY_MODEL_b84d90073c044472963129595aeea6b5",
            "placeholder": "​",
            "style": "IPY_MODEL_c701f7f3a69d4c6a9a5282d2ac4cce07",
            "value": " 8.07k/8.07k [00:00&lt;00:00, 131kB/s]"
          }
        },
        "5396007d013e48d6a6de4309161ffe5d": {
          "model_module": "@jupyter-widgets/controls",
          "model_module_version": "1.5.0",
          "model_name": "HTMLModel",
          "state": {
            "_dom_classes": [],
            "_model_module": "@jupyter-widgets/controls",
            "_model_module_version": "1.5.0",
            "_model_name": "HTMLModel",
            "_view_count": null,
            "_view_module": "@jupyter-widgets/controls",
            "_view_module_version": "1.5.0",
            "_view_name": "HTMLView",
            "description": "",
            "description_tooltip": null,
            "layout": "IPY_MODEL_36699e3605924606976caada927a2be5",
            "placeholder": "​",
            "style": "IPY_MODEL_0b26750a606348a0b6228d5cb5373bc5",
            "value": "Generating train split: 100%"
          }
        },
        "53d6681d17cf404399d06acf788a0f98": {
          "model_module": "@jupyter-widgets/controls",
          "model_module_version": "1.5.0",
          "model_name": "DescriptionStyleModel",
          "state": {
            "_model_module": "@jupyter-widgets/controls",
            "_model_module_version": "1.5.0",
            "_model_name": "DescriptionStyleModel",
            "_view_count": null,
            "_view_module": "@jupyter-widgets/base",
            "_view_module_version": "1.2.0",
            "_view_name": "StyleView",
            "description_width": ""
          }
        },
        "5497a4ed38df409a8d58da8047ac6c51": {
          "model_module": "@jupyter-widgets/controls",
          "model_module_version": "1.5.0",
          "model_name": "DescriptionStyleModel",
          "state": {
            "_model_module": "@jupyter-widgets/controls",
            "_model_module_version": "1.5.0",
            "_model_name": "DescriptionStyleModel",
            "_view_count": null,
            "_view_module": "@jupyter-widgets/base",
            "_view_module_version": "1.2.0",
            "_view_name": "StyleView",
            "description_width": ""
          }
        },
        "5ad27797362041a8a28ae9d339ea55b7": {
          "model_module": "@jupyter-widgets/controls",
          "model_module_version": "1.5.0",
          "model_name": "DescriptionStyleModel",
          "state": {
            "_model_module": "@jupyter-widgets/controls",
            "_model_module_version": "1.5.0",
            "_model_name": "DescriptionStyleModel",
            "_view_count": null,
            "_view_module": "@jupyter-widgets/base",
            "_view_module_version": "1.2.0",
            "_view_name": "StyleView",
            "description_width": ""
          }
        },
        "5afa0afca80f4d29aaeaa48b1d0190fe": {
          "model_module": "@jupyter-widgets/controls",
          "model_module_version": "1.5.0",
          "model_name": "ProgressStyleModel",
          "state": {
            "_model_module": "@jupyter-widgets/controls",
            "_model_module_version": "1.5.0",
            "_model_name": "ProgressStyleModel",
            "_view_count": null,
            "_view_module": "@jupyter-widgets/base",
            "_view_module_version": "1.2.0",
            "_view_name": "StyleView",
            "bar_color": null,
            "description_width": ""
          }
        },
        "5f4418808bf14e2ca7e1e4b80768d997": {
          "model_module": "@jupyter-widgets/controls",
          "model_module_version": "1.5.0",
          "model_name": "DescriptionStyleModel",
          "state": {
            "_model_module": "@jupyter-widgets/controls",
            "_model_module_version": "1.5.0",
            "_model_name": "DescriptionStyleModel",
            "_view_count": null,
            "_view_module": "@jupyter-widgets/base",
            "_view_module_version": "1.2.0",
            "_view_name": "StyleView",
            "description_width": ""
          }
        },
        "60dd26a19084482081158f2a9836c324": {
          "model_module": "@jupyter-widgets/base",
          "model_module_version": "1.2.0",
          "model_name": "LayoutModel",
          "state": {
            "_model_module": "@jupyter-widgets/base",
            "_model_module_version": "1.2.0",
            "_model_name": "LayoutModel",
            "_view_count": null,
            "_view_module": "@jupyter-widgets/base",
            "_view_module_version": "1.2.0",
            "_view_name": "LayoutView",
            "align_content": null,
            "align_items": null,
            "align_self": null,
            "border": null,
            "bottom": null,
            "display": null,
            "flex": null,
            "flex_flow": null,
            "grid_area": null,
            "grid_auto_columns": null,
            "grid_auto_flow": null,
            "grid_auto_rows": null,
            "grid_column": null,
            "grid_gap": null,
            "grid_row": null,
            "grid_template_areas": null,
            "grid_template_columns": null,
            "grid_template_rows": null,
            "height": null,
            "justify_content": null,
            "justify_items": null,
            "left": null,
            "margin": null,
            "max_height": null,
            "max_width": null,
            "min_height": null,
            "min_width": null,
            "object_fit": null,
            "object_position": null,
            "order": null,
            "overflow": null,
            "overflow_x": null,
            "overflow_y": null,
            "padding": null,
            "right": null,
            "top": null,
            "visibility": null,
            "width": null
          }
        },
        "618af85e45504e5ba753fe3e3d851a95": {
          "model_module": "@jupyter-widgets/base",
          "model_module_version": "1.2.0",
          "model_name": "LayoutModel",
          "state": {
            "_model_module": "@jupyter-widgets/base",
            "_model_module_version": "1.2.0",
            "_model_name": "LayoutModel",
            "_view_count": null,
            "_view_module": "@jupyter-widgets/base",
            "_view_module_version": "1.2.0",
            "_view_name": "LayoutView",
            "align_content": null,
            "align_items": null,
            "align_self": null,
            "border": null,
            "bottom": null,
            "display": null,
            "flex": null,
            "flex_flow": null,
            "grid_area": null,
            "grid_auto_columns": null,
            "grid_auto_flow": null,
            "grid_auto_rows": null,
            "grid_column": null,
            "grid_gap": null,
            "grid_row": null,
            "grid_template_areas": null,
            "grid_template_columns": null,
            "grid_template_rows": null,
            "height": null,
            "justify_content": null,
            "justify_items": null,
            "left": null,
            "margin": null,
            "max_height": null,
            "max_width": null,
            "min_height": null,
            "min_width": null,
            "object_fit": null,
            "object_position": null,
            "order": null,
            "overflow": null,
            "overflow_x": null,
            "overflow_y": null,
            "padding": null,
            "right": null,
            "top": null,
            "visibility": null,
            "width": null
          }
        },
        "62f8fba7f0114ce8b19e47c3e9d84f90": {
          "model_module": "@jupyter-widgets/controls",
          "model_module_version": "1.5.0",
          "model_name": "FloatProgressModel",
          "state": {
            "_dom_classes": [],
            "_model_module": "@jupyter-widgets/controls",
            "_model_module_version": "1.5.0",
            "_model_name": "FloatProgressModel",
            "_view_count": null,
            "_view_module": "@jupyter-widgets/controls",
            "_view_module_version": "1.5.0",
            "_view_name": "ProgressView",
            "bar_style": "success",
            "description": "",
            "description_tooltip": null,
            "layout": "IPY_MODEL_618af85e45504e5ba753fe3e3d851a95",
            "max": 8070,
            "min": 0,
            "orientation": "horizontal",
            "style": "IPY_MODEL_a648c194e94540bfbdd896f08a78d31f",
            "value": 8070
          }
        },
        "6369890ebb744c11a96acf1a209a6ac8": {
          "model_module": "@jupyter-widgets/controls",
          "model_module_version": "1.5.0",
          "model_name": "HTMLModel",
          "state": {
            "_dom_classes": [],
            "_model_module": "@jupyter-widgets/controls",
            "_model_module_version": "1.5.0",
            "_model_name": "HTMLModel",
            "_view_count": null,
            "_view_module": "@jupyter-widgets/controls",
            "_view_module_version": "1.5.0",
            "_view_name": "HTMLView",
            "description": "",
            "description_tooltip": null,
            "layout": "IPY_MODEL_d9d3feccc1a749a39118accdf14c242d",
            "placeholder": "​",
            "style": "IPY_MODEL_5497a4ed38df409a8d58da8047ac6c51",
            "value": " 7600/7600 [00:00&lt;00:00, 53133.48 examples/s]"
          }
        },
        "661a20ff3c6b4701b84149ad873563c6": {
          "model_module": "@jupyter-widgets/base",
          "model_module_version": "1.2.0",
          "model_name": "LayoutModel",
          "state": {
            "_model_module": "@jupyter-widgets/base",
            "_model_module_version": "1.2.0",
            "_model_name": "LayoutModel",
            "_view_count": null,
            "_view_module": "@jupyter-widgets/base",
            "_view_module_version": "1.2.0",
            "_view_name": "LayoutView",
            "align_content": null,
            "align_items": null,
            "align_self": null,
            "border": null,
            "bottom": null,
            "display": null,
            "flex": null,
            "flex_flow": null,
            "grid_area": null,
            "grid_auto_columns": null,
            "grid_auto_flow": null,
            "grid_auto_rows": null,
            "grid_column": null,
            "grid_gap": null,
            "grid_row": null,
            "grid_template_areas": null,
            "grid_template_columns": null,
            "grid_template_rows": null,
            "height": null,
            "justify_content": null,
            "justify_items": null,
            "left": null,
            "margin": null,
            "max_height": null,
            "max_width": null,
            "min_height": null,
            "min_width": null,
            "object_fit": null,
            "object_position": null,
            "order": null,
            "overflow": null,
            "overflow_x": null,
            "overflow_y": null,
            "padding": null,
            "right": null,
            "top": null,
            "visibility": null,
            "width": null
          }
        },
        "67823214724046f58b19fd734ae46287": {
          "model_module": "@jupyter-widgets/base",
          "model_module_version": "1.2.0",
          "model_name": "LayoutModel",
          "state": {
            "_model_module": "@jupyter-widgets/base",
            "_model_module_version": "1.2.0",
            "_model_name": "LayoutModel",
            "_view_count": null,
            "_view_module": "@jupyter-widgets/base",
            "_view_module_version": "1.2.0",
            "_view_name": "LayoutView",
            "align_content": null,
            "align_items": null,
            "align_self": null,
            "border": null,
            "bottom": null,
            "display": null,
            "flex": null,
            "flex_flow": null,
            "grid_area": null,
            "grid_auto_columns": null,
            "grid_auto_flow": null,
            "grid_auto_rows": null,
            "grid_column": null,
            "grid_gap": null,
            "grid_row": null,
            "grid_template_areas": null,
            "grid_template_columns": null,
            "grid_template_rows": null,
            "height": null,
            "justify_content": null,
            "justify_items": null,
            "left": null,
            "margin": null,
            "max_height": null,
            "max_width": null,
            "min_height": null,
            "min_width": null,
            "object_fit": null,
            "object_position": null,
            "order": null,
            "overflow": null,
            "overflow_x": null,
            "overflow_y": null,
            "padding": null,
            "right": null,
            "top": null,
            "visibility": null,
            "width": null
          }
        },
        "6b45f3a753e04e48850b799604e692e8": {
          "model_module": "@jupyter-widgets/controls",
          "model_module_version": "1.5.0",
          "model_name": "ProgressStyleModel",
          "state": {
            "_model_module": "@jupyter-widgets/controls",
            "_model_module_version": "1.5.0",
            "_model_name": "ProgressStyleModel",
            "_view_count": null,
            "_view_module": "@jupyter-widgets/base",
            "_view_module_version": "1.2.0",
            "_view_name": "StyleView",
            "bar_color": null,
            "description_width": ""
          }
        },
        "6bc03a945cb249c69b1a3fb332c2f8a2": {
          "model_module": "@jupyter-widgets/base",
          "model_module_version": "1.2.0",
          "model_name": "LayoutModel",
          "state": {
            "_model_module": "@jupyter-widgets/base",
            "_model_module_version": "1.2.0",
            "_model_name": "LayoutModel",
            "_view_count": null,
            "_view_module": "@jupyter-widgets/base",
            "_view_module_version": "1.2.0",
            "_view_name": "LayoutView",
            "align_content": null,
            "align_items": null,
            "align_self": null,
            "border": null,
            "bottom": null,
            "display": null,
            "flex": null,
            "flex_flow": null,
            "grid_area": null,
            "grid_auto_columns": null,
            "grid_auto_flow": null,
            "grid_auto_rows": null,
            "grid_column": null,
            "grid_gap": null,
            "grid_row": null,
            "grid_template_areas": null,
            "grid_template_columns": null,
            "grid_template_rows": null,
            "height": null,
            "justify_content": null,
            "justify_items": null,
            "left": null,
            "margin": null,
            "max_height": null,
            "max_width": null,
            "min_height": null,
            "min_width": null,
            "object_fit": null,
            "object_position": null,
            "order": null,
            "overflow": null,
            "overflow_x": null,
            "overflow_y": null,
            "padding": null,
            "right": null,
            "top": null,
            "visibility": null,
            "width": null
          }
        },
        "6f127be6dabb4f43a3f7df12da818111": {
          "model_module": "@jupyter-widgets/base",
          "model_module_version": "1.2.0",
          "model_name": "LayoutModel",
          "state": {
            "_model_module": "@jupyter-widgets/base",
            "_model_module_version": "1.2.0",
            "_model_name": "LayoutModel",
            "_view_count": null,
            "_view_module": "@jupyter-widgets/base",
            "_view_module_version": "1.2.0",
            "_view_name": "LayoutView",
            "align_content": null,
            "align_items": null,
            "align_self": null,
            "border": null,
            "bottom": null,
            "display": null,
            "flex": null,
            "flex_flow": null,
            "grid_area": null,
            "grid_auto_columns": null,
            "grid_auto_flow": null,
            "grid_auto_rows": null,
            "grid_column": null,
            "grid_gap": null,
            "grid_row": null,
            "grid_template_areas": null,
            "grid_template_columns": null,
            "grid_template_rows": null,
            "height": null,
            "justify_content": null,
            "justify_items": null,
            "left": null,
            "margin": null,
            "max_height": null,
            "max_width": null,
            "min_height": null,
            "min_width": null,
            "object_fit": null,
            "object_position": null,
            "order": null,
            "overflow": null,
            "overflow_x": null,
            "overflow_y": null,
            "padding": null,
            "right": null,
            "top": null,
            "visibility": null,
            "width": null
          }
        },
        "70825c714aa048a4813f2dd5ccbfbb9d": {
          "model_module": "@jupyter-widgets/base",
          "model_module_version": "1.2.0",
          "model_name": "LayoutModel",
          "state": {
            "_model_module": "@jupyter-widgets/base",
            "_model_module_version": "1.2.0",
            "_model_name": "LayoutModel",
            "_view_count": null,
            "_view_module": "@jupyter-widgets/base",
            "_view_module_version": "1.2.0",
            "_view_name": "LayoutView",
            "align_content": null,
            "align_items": null,
            "align_self": null,
            "border": null,
            "bottom": null,
            "display": null,
            "flex": null,
            "flex_flow": null,
            "grid_area": null,
            "grid_auto_columns": null,
            "grid_auto_flow": null,
            "grid_auto_rows": null,
            "grid_column": null,
            "grid_gap": null,
            "grid_row": null,
            "grid_template_areas": null,
            "grid_template_columns": null,
            "grid_template_rows": null,
            "height": null,
            "justify_content": null,
            "justify_items": null,
            "left": null,
            "margin": null,
            "max_height": null,
            "max_width": null,
            "min_height": null,
            "min_width": null,
            "object_fit": null,
            "object_position": null,
            "order": null,
            "overflow": null,
            "overflow_x": null,
            "overflow_y": null,
            "padding": null,
            "right": null,
            "top": null,
            "visibility": null,
            "width": null
          }
        },
        "73200f235fa6451aa982631aed7c648f": {
          "model_module": "@jupyter-widgets/base",
          "model_module_version": "1.2.0",
          "model_name": "LayoutModel",
          "state": {
            "_model_module": "@jupyter-widgets/base",
            "_model_module_version": "1.2.0",
            "_model_name": "LayoutModel",
            "_view_count": null,
            "_view_module": "@jupyter-widgets/base",
            "_view_module_version": "1.2.0",
            "_view_name": "LayoutView",
            "align_content": null,
            "align_items": null,
            "align_self": null,
            "border": null,
            "bottom": null,
            "display": null,
            "flex": null,
            "flex_flow": null,
            "grid_area": null,
            "grid_auto_columns": null,
            "grid_auto_flow": null,
            "grid_auto_rows": null,
            "grid_column": null,
            "grid_gap": null,
            "grid_row": null,
            "grid_template_areas": null,
            "grid_template_columns": null,
            "grid_template_rows": null,
            "height": null,
            "justify_content": null,
            "justify_items": null,
            "left": null,
            "margin": null,
            "max_height": null,
            "max_width": null,
            "min_height": null,
            "min_width": null,
            "object_fit": null,
            "object_position": null,
            "order": null,
            "overflow": null,
            "overflow_x": null,
            "overflow_y": null,
            "padding": null,
            "right": null,
            "top": null,
            "visibility": null,
            "width": null
          }
        },
        "7a79e9a2497c4c7a9817ccf2be210726": {
          "model_module": "@jupyter-widgets/base",
          "model_module_version": "1.2.0",
          "model_name": "LayoutModel",
          "state": {
            "_model_module": "@jupyter-widgets/base",
            "_model_module_version": "1.2.0",
            "_model_name": "LayoutModel",
            "_view_count": null,
            "_view_module": "@jupyter-widgets/base",
            "_view_module_version": "1.2.0",
            "_view_name": "LayoutView",
            "align_content": null,
            "align_items": null,
            "align_self": null,
            "border": null,
            "bottom": null,
            "display": null,
            "flex": null,
            "flex_flow": null,
            "grid_area": null,
            "grid_auto_columns": null,
            "grid_auto_flow": null,
            "grid_auto_rows": null,
            "grid_column": null,
            "grid_gap": null,
            "grid_row": null,
            "grid_template_areas": null,
            "grid_template_columns": null,
            "grid_template_rows": null,
            "height": null,
            "justify_content": null,
            "justify_items": null,
            "left": null,
            "margin": null,
            "max_height": null,
            "max_width": null,
            "min_height": null,
            "min_width": null,
            "object_fit": null,
            "object_position": null,
            "order": null,
            "overflow": null,
            "overflow_x": null,
            "overflow_y": null,
            "padding": null,
            "right": null,
            "top": null,
            "visibility": null,
            "width": null
          }
        },
        "7e5e84520b844926a550f66e6783df96": {
          "model_module": "@jupyter-widgets/controls",
          "model_module_version": "1.5.0",
          "model_name": "DescriptionStyleModel",
          "state": {
            "_model_module": "@jupyter-widgets/controls",
            "_model_module_version": "1.5.0",
            "_model_name": "DescriptionStyleModel",
            "_view_count": null,
            "_view_module": "@jupyter-widgets/base",
            "_view_module_version": "1.2.0",
            "_view_name": "StyleView",
            "description_width": ""
          }
        },
        "81fa26941fa441439ec7e93e1bf086d8": {
          "model_module": "@jupyter-widgets/base",
          "model_module_version": "1.2.0",
          "model_name": "LayoutModel",
          "state": {
            "_model_module": "@jupyter-widgets/base",
            "_model_module_version": "1.2.0",
            "_model_name": "LayoutModel",
            "_view_count": null,
            "_view_module": "@jupyter-widgets/base",
            "_view_module_version": "1.2.0",
            "_view_name": "LayoutView",
            "align_content": null,
            "align_items": null,
            "align_self": null,
            "border": null,
            "bottom": null,
            "display": null,
            "flex": null,
            "flex_flow": null,
            "grid_area": null,
            "grid_auto_columns": null,
            "grid_auto_flow": null,
            "grid_auto_rows": null,
            "grid_column": null,
            "grid_gap": null,
            "grid_row": null,
            "grid_template_areas": null,
            "grid_template_columns": null,
            "grid_template_rows": null,
            "height": null,
            "justify_content": null,
            "justify_items": null,
            "left": null,
            "margin": null,
            "max_height": null,
            "max_width": null,
            "min_height": null,
            "min_width": null,
            "object_fit": null,
            "object_position": null,
            "order": null,
            "overflow": null,
            "overflow_x": null,
            "overflow_y": null,
            "padding": null,
            "right": null,
            "top": null,
            "visibility": null,
            "width": null
          }
        },
        "86770149adae4ae685e99a567ece770e": {
          "model_module": "@jupyter-widgets/controls",
          "model_module_version": "1.5.0",
          "model_name": "HBoxModel",
          "state": {
            "_dom_classes": [],
            "_model_module": "@jupyter-widgets/controls",
            "_model_module_version": "1.5.0",
            "_model_name": "HBoxModel",
            "_view_count": null,
            "_view_module": "@jupyter-widgets/controls",
            "_view_module_version": "1.5.0",
            "_view_name": "HBoxView",
            "box_style": "",
            "children": [
              "IPY_MODEL_9ba5690a16d74680ae510067b830776a",
              "IPY_MODEL_1009a623490948f3ab62b32365e10c0b",
              "IPY_MODEL_4ef0114495be4a6f8ec08bb3ad936617"
            ],
            "layout": "IPY_MODEL_1652224526c0481b9cc9afcc262def39"
          }
        },
        "9124210b547642b3b5cd151d901dbf74": {
          "model_module": "@jupyter-widgets/controls",
          "model_module_version": "1.5.0",
          "model_name": "HTMLModel",
          "state": {
            "_dom_classes": [],
            "_model_module": "@jupyter-widgets/controls",
            "_model_module_version": "1.5.0",
            "_model_name": "HTMLModel",
            "_view_count": null,
            "_view_module": "@jupyter-widgets/controls",
            "_view_module_version": "1.5.0",
            "_view_name": "HTMLView",
            "description": "",
            "description_tooltip": null,
            "layout": "IPY_MODEL_60dd26a19084482081158f2a9836c324",
            "placeholder": "​",
            "style": "IPY_MODEL_db7205ad91174646bab4cbb19f2b68f0",
            "value": "100%"
          }
        },
        "91731e6fb58440868395aa9c69bf356f": {
          "model_module": "@jupyter-widgets/controls",
          "model_module_version": "1.5.0",
          "model_name": "DescriptionStyleModel",
          "state": {
            "_model_module": "@jupyter-widgets/controls",
            "_model_module_version": "1.5.0",
            "_model_name": "DescriptionStyleModel",
            "_view_count": null,
            "_view_module": "@jupyter-widgets/base",
            "_view_module_version": "1.2.0",
            "_view_name": "StyleView",
            "description_width": ""
          }
        },
        "937e0c86c1cb458bbec57850fd958c0d": {
          "model_module": "@jupyter-widgets/base",
          "model_module_version": "1.2.0",
          "model_name": "LayoutModel",
          "state": {
            "_model_module": "@jupyter-widgets/base",
            "_model_module_version": "1.2.0",
            "_model_name": "LayoutModel",
            "_view_count": null,
            "_view_module": "@jupyter-widgets/base",
            "_view_module_version": "1.2.0",
            "_view_name": "LayoutView",
            "align_content": null,
            "align_items": null,
            "align_self": null,
            "border": null,
            "bottom": null,
            "display": null,
            "flex": null,
            "flex_flow": null,
            "grid_area": null,
            "grid_auto_columns": null,
            "grid_auto_flow": null,
            "grid_auto_rows": null,
            "grid_column": null,
            "grid_gap": null,
            "grid_row": null,
            "grid_template_areas": null,
            "grid_template_columns": null,
            "grid_template_rows": null,
            "height": null,
            "justify_content": null,
            "justify_items": null,
            "left": null,
            "margin": null,
            "max_height": null,
            "max_width": null,
            "min_height": null,
            "min_width": null,
            "object_fit": null,
            "object_position": null,
            "order": null,
            "overflow": null,
            "overflow_x": null,
            "overflow_y": null,
            "padding": null,
            "right": null,
            "top": null,
            "visibility": null,
            "width": null
          }
        },
        "9ba5690a16d74680ae510067b830776a": {
          "model_module": "@jupyter-widgets/controls",
          "model_module_version": "1.5.0",
          "model_name": "HTMLModel",
          "state": {
            "_dom_classes": [],
            "_model_module": "@jupyter-widgets/controls",
            "_model_module_version": "1.5.0",
            "_model_name": "HTMLModel",
            "_view_count": null,
            "_view_module": "@jupyter-widgets/controls",
            "_view_module_version": "1.5.0",
            "_view_name": "HTMLView",
            "description": "",
            "description_tooltip": null,
            "layout": "IPY_MODEL_937e0c86c1cb458bbec57850fd958c0d",
            "placeholder": "​",
            "style": "IPY_MODEL_e29e5d9f7deb43f4bbffa025f5188ed2",
            "value": "Downloading data: 100%"
          }
        },
        "9cef041bd2aa4deabfc20f2135fc5478": {
          "model_module": "@jupyter-widgets/controls",
          "model_module_version": "1.5.0",
          "model_name": "HTMLModel",
          "state": {
            "_dom_classes": [],
            "_model_module": "@jupyter-widgets/controls",
            "_model_module_version": "1.5.0",
            "_model_name": "HTMLModel",
            "_view_count": null,
            "_view_module": "@jupyter-widgets/controls",
            "_view_module_version": "1.5.0",
            "_view_name": "HTMLView",
            "description": "",
            "description_tooltip": null,
            "layout": "IPY_MODEL_6bc03a945cb249c69b1a3fb332c2f8a2",
            "placeholder": "​",
            "style": "IPY_MODEL_53d6681d17cf404399d06acf788a0f98",
            "value": " 18.6M/18.6M [00:00&lt;00:00, 16.0MB/s]"
          }
        },
        "9d63a25c8ecb4fccaa2254bf0573f4d3": {
          "model_module": "@jupyter-widgets/base",
          "model_module_version": "1.2.0",
          "model_name": "LayoutModel",
          "state": {
            "_model_module": "@jupyter-widgets/base",
            "_model_module_version": "1.2.0",
            "_model_name": "LayoutModel",
            "_view_count": null,
            "_view_module": "@jupyter-widgets/base",
            "_view_module_version": "1.2.0",
            "_view_name": "LayoutView",
            "align_content": null,
            "align_items": null,
            "align_self": null,
            "border": null,
            "bottom": null,
            "display": null,
            "flex": null,
            "flex_flow": null,
            "grid_area": null,
            "grid_auto_columns": null,
            "grid_auto_flow": null,
            "grid_auto_rows": null,
            "grid_column": null,
            "grid_gap": null,
            "grid_row": null,
            "grid_template_areas": null,
            "grid_template_columns": null,
            "grid_template_rows": null,
            "height": null,
            "justify_content": null,
            "justify_items": null,
            "left": null,
            "margin": null,
            "max_height": null,
            "max_width": null,
            "min_height": null,
            "min_width": null,
            "object_fit": null,
            "object_position": null,
            "order": null,
            "overflow": null,
            "overflow_x": null,
            "overflow_y": null,
            "padding": null,
            "right": null,
            "top": null,
            "visibility": null,
            "width": null
          }
        },
        "9e0ef4cc5cf84366866cda03696f13ba": {
          "model_module": "@jupyter-widgets/base",
          "model_module_version": "1.2.0",
          "model_name": "LayoutModel",
          "state": {
            "_model_module": "@jupyter-widgets/base",
            "_model_module_version": "1.2.0",
            "_model_name": "LayoutModel",
            "_view_count": null,
            "_view_module": "@jupyter-widgets/base",
            "_view_module_version": "1.2.0",
            "_view_name": "LayoutView",
            "align_content": null,
            "align_items": null,
            "align_self": null,
            "border": null,
            "bottom": null,
            "display": null,
            "flex": null,
            "flex_flow": null,
            "grid_area": null,
            "grid_auto_columns": null,
            "grid_auto_flow": null,
            "grid_auto_rows": null,
            "grid_column": null,
            "grid_gap": null,
            "grid_row": null,
            "grid_template_areas": null,
            "grid_template_columns": null,
            "grid_template_rows": null,
            "height": null,
            "justify_content": null,
            "justify_items": null,
            "left": null,
            "margin": null,
            "max_height": null,
            "max_width": null,
            "min_height": null,
            "min_width": null,
            "object_fit": null,
            "object_position": null,
            "order": null,
            "overflow": null,
            "overflow_x": null,
            "overflow_y": null,
            "padding": null,
            "right": null,
            "top": null,
            "visibility": null,
            "width": null
          }
        },
        "a648c194e94540bfbdd896f08a78d31f": {
          "model_module": "@jupyter-widgets/controls",
          "model_module_version": "1.5.0",
          "model_name": "ProgressStyleModel",
          "state": {
            "_model_module": "@jupyter-widgets/controls",
            "_model_module_version": "1.5.0",
            "_model_name": "ProgressStyleModel",
            "_view_count": null,
            "_view_module": "@jupyter-widgets/base",
            "_view_module_version": "1.2.0",
            "_view_name": "StyleView",
            "bar_color": null,
            "description_width": ""
          }
        },
        "ad2d0dd3b17e4ae890f31c6b844ab154": {
          "model_module": "@jupyter-widgets/controls",
          "model_module_version": "1.5.0",
          "model_name": "HBoxModel",
          "state": {
            "_dom_classes": [],
            "_model_module": "@jupyter-widgets/controls",
            "_model_module_version": "1.5.0",
            "_model_name": "HBoxModel",
            "_view_count": null,
            "_view_module": "@jupyter-widgets/controls",
            "_view_module_version": "1.5.0",
            "_view_name": "HBoxView",
            "box_style": "",
            "children": [
              "IPY_MODEL_1998d976fe6c47c781d8245c226bec00",
              "IPY_MODEL_12b32ec2fb43457098bef5f9039fc380",
              "IPY_MODEL_bfb958e4b14849959dd74c2ff869249e"
            ],
            "layout": "IPY_MODEL_9e0ef4cc5cf84366866cda03696f13ba"
          }
        },
        "b02463ee5a144620b82f5c9c387c26e1": {
          "model_module": "@jupyter-widgets/controls",
          "model_module_version": "1.5.0",
          "model_name": "DescriptionStyleModel",
          "state": {
            "_model_module": "@jupyter-widgets/controls",
            "_model_module_version": "1.5.0",
            "_model_name": "DescriptionStyleModel",
            "_view_count": null,
            "_view_module": "@jupyter-widgets/base",
            "_view_module_version": "1.2.0",
            "_view_name": "StyleView",
            "description_width": ""
          }
        },
        "b31f36c9d0a74679817bda0ac7422f15": {
          "model_module": "@jupyter-widgets/base",
          "model_module_version": "1.2.0",
          "model_name": "LayoutModel",
          "state": {
            "_model_module": "@jupyter-widgets/base",
            "_model_module_version": "1.2.0",
            "_model_name": "LayoutModel",
            "_view_count": null,
            "_view_module": "@jupyter-widgets/base",
            "_view_module_version": "1.2.0",
            "_view_name": "LayoutView",
            "align_content": null,
            "align_items": null,
            "align_self": null,
            "border": null,
            "bottom": null,
            "display": null,
            "flex": null,
            "flex_flow": null,
            "grid_area": null,
            "grid_auto_columns": null,
            "grid_auto_flow": null,
            "grid_auto_rows": null,
            "grid_column": null,
            "grid_gap": null,
            "grid_row": null,
            "grid_template_areas": null,
            "grid_template_columns": null,
            "grid_template_rows": null,
            "height": null,
            "justify_content": null,
            "justify_items": null,
            "left": null,
            "margin": null,
            "max_height": null,
            "max_width": null,
            "min_height": null,
            "min_width": null,
            "object_fit": null,
            "object_position": null,
            "order": null,
            "overflow": null,
            "overflow_x": null,
            "overflow_y": null,
            "padding": null,
            "right": null,
            "top": null,
            "visibility": null,
            "width": null
          }
        },
        "b6c18c1bb73c4700b4c4e64ad41d42e5": {
          "model_module": "@jupyter-widgets/controls",
          "model_module_version": "1.5.0",
          "model_name": "FloatProgressModel",
          "state": {
            "_dom_classes": [],
            "_model_module": "@jupyter-widgets/controls",
            "_model_module_version": "1.5.0",
            "_model_name": "FloatProgressModel",
            "_view_count": null,
            "_view_module": "@jupyter-widgets/controls",
            "_view_module_version": "1.5.0",
            "_view_name": "ProgressView",
            "bar_style": "success",
            "description": "",
            "description_tooltip": null,
            "layout": "IPY_MODEL_fd12ff751d464f45925c447cdb92559c",
            "max": 7600,
            "min": 0,
            "orientation": "horizontal",
            "style": "IPY_MODEL_d2b8858a61f24afa9f88b52f5699e47d",
            "value": 7600
          }
        },
        "b73fa34eed7d4e488bbd30571752aa8f": {
          "model_module": "@jupyter-widgets/controls",
          "model_module_version": "1.5.0",
          "model_name": "HTMLModel",
          "state": {
            "_dom_classes": [],
            "_model_module": "@jupyter-widgets/controls",
            "_model_module_version": "1.5.0",
            "_model_name": "HTMLModel",
            "_view_count": null,
            "_view_module": "@jupyter-widgets/controls",
            "_view_module_version": "1.5.0",
            "_view_name": "HTMLView",
            "description": "",
            "description_tooltip": null,
            "layout": "IPY_MODEL_eca7f5057dc74c7f8a1b4d69192e3d0a",
            "placeholder": "​",
            "style": "IPY_MODEL_bdd76f3e47fa4d398a8b654d8015708c",
            "value": " 11/11 [00:26&lt;00:00,  1.11s/it]"
          }
        },
        "b84d90073c044472963129595aeea6b5": {
          "model_module": "@jupyter-widgets/base",
          "model_module_version": "1.2.0",
          "model_name": "LayoutModel",
          "state": {
            "_model_module": "@jupyter-widgets/base",
            "_model_module_version": "1.2.0",
            "_model_name": "LayoutModel",
            "_view_count": null,
            "_view_module": "@jupyter-widgets/base",
            "_view_module_version": "1.2.0",
            "_view_name": "LayoutView",
            "align_content": null,
            "align_items": null,
            "align_self": null,
            "border": null,
            "bottom": null,
            "display": null,
            "flex": null,
            "flex_flow": null,
            "grid_area": null,
            "grid_auto_columns": null,
            "grid_auto_flow": null,
            "grid_auto_rows": null,
            "grid_column": null,
            "grid_gap": null,
            "grid_row": null,
            "grid_template_areas": null,
            "grid_template_columns": null,
            "grid_template_rows": null,
            "height": null,
            "justify_content": null,
            "justify_items": null,
            "left": null,
            "margin": null,
            "max_height": null,
            "max_width": null,
            "min_height": null,
            "min_width": null,
            "object_fit": null,
            "object_position": null,
            "order": null,
            "overflow": null,
            "overflow_x": null,
            "overflow_y": null,
            "padding": null,
            "right": null,
            "top": null,
            "visibility": null,
            "width": null
          }
        },
        "bb24c308404a487e9d37bfca7f832480": {
          "model_module": "@jupyter-widgets/controls",
          "model_module_version": "1.5.0",
          "model_name": "HTMLModel",
          "state": {
            "_dom_classes": [],
            "_model_module": "@jupyter-widgets/controls",
            "_model_module_version": "1.5.0",
            "_model_name": "HTMLModel",
            "_view_count": null,
            "_view_module": "@jupyter-widgets/controls",
            "_view_module_version": "1.5.0",
            "_view_name": "HTMLView",
            "description": "",
            "description_tooltip": null,
            "layout": "IPY_MODEL_73200f235fa6451aa982631aed7c648f",
            "placeholder": "​",
            "style": "IPY_MODEL_5ad27797362041a8a28ae9d339ea55b7",
            "value": "Downloading data: 100%"
          }
        },
        "bdd76f3e47fa4d398a8b654d8015708c": {
          "model_module": "@jupyter-widgets/controls",
          "model_module_version": "1.5.0",
          "model_name": "DescriptionStyleModel",
          "state": {
            "_model_module": "@jupyter-widgets/controls",
            "_model_module_version": "1.5.0",
            "_model_name": "DescriptionStyleModel",
            "_view_count": null,
            "_view_module": "@jupyter-widgets/base",
            "_view_module_version": "1.2.0",
            "_view_name": "StyleView",
            "description_width": ""
          }
        },
        "bfb958e4b14849959dd74c2ff869249e": {
          "model_module": "@jupyter-widgets/controls",
          "model_module_version": "1.5.0",
          "model_name": "HTMLModel",
          "state": {
            "_dom_classes": [],
            "_model_module": "@jupyter-widgets/controls",
            "_model_module_version": "1.5.0",
            "_model_name": "HTMLModel",
            "_view_count": null,
            "_view_module": "@jupyter-widgets/controls",
            "_view_module_version": "1.5.0",
            "_view_name": "HTMLView",
            "description": "",
            "description_tooltip": null,
            "layout": "IPY_MODEL_c92ae946e46f42229d8a0fb817b626fc",
            "placeholder": "​",
            "style": "IPY_MODEL_c531cd352d04458a8ffe8a1d61d373e3",
            "value": " 6/6 [00:00&lt;00:00, 13.75it/s]"
          }
        },
        "c531cd352d04458a8ffe8a1d61d373e3": {
          "model_module": "@jupyter-widgets/controls",
          "model_module_version": "1.5.0",
          "model_name": "DescriptionStyleModel",
          "state": {
            "_model_module": "@jupyter-widgets/controls",
            "_model_module_version": "1.5.0",
            "_model_name": "DescriptionStyleModel",
            "_view_count": null,
            "_view_module": "@jupyter-widgets/base",
            "_view_module_version": "1.2.0",
            "_view_name": "StyleView",
            "description_width": ""
          }
        },
        "c701f7f3a69d4c6a9a5282d2ac4cce07": {
          "model_module": "@jupyter-widgets/controls",
          "model_module_version": "1.5.0",
          "model_name": "DescriptionStyleModel",
          "state": {
            "_model_module": "@jupyter-widgets/controls",
            "_model_module_version": "1.5.0",
            "_model_name": "DescriptionStyleModel",
            "_view_count": null,
            "_view_module": "@jupyter-widgets/base",
            "_view_module_version": "1.2.0",
            "_view_name": "StyleView",
            "description_width": ""
          }
        },
        "c906c65479ea4054afa650dfde3d5c75": {
          "model_module": "@jupyter-widgets/controls",
          "model_module_version": "1.5.0",
          "model_name": "HBoxModel",
          "state": {
            "_dom_classes": [],
            "_model_module": "@jupyter-widgets/controls",
            "_model_module_version": "1.5.0",
            "_model_name": "HBoxModel",
            "_view_count": null,
            "_view_module": "@jupyter-widgets/controls",
            "_view_module_version": "1.5.0",
            "_view_name": "HBoxView",
            "box_style": "",
            "children": [
              "IPY_MODEL_bb24c308404a487e9d37bfca7f832480",
              "IPY_MODEL_4fa9308d74f54899827dd724ddd25db6",
              "IPY_MODEL_9cef041bd2aa4deabfc20f2135fc5478"
            ],
            "layout": "IPY_MODEL_d41c92abd9ef457c9f57502f4ab30f90"
          }
        },
        "c92ae946e46f42229d8a0fb817b626fc": {
          "model_module": "@jupyter-widgets/base",
          "model_module_version": "1.2.0",
          "model_name": "LayoutModel",
          "state": {
            "_model_module": "@jupyter-widgets/base",
            "_model_module_version": "1.2.0",
            "_model_name": "LayoutModel",
            "_view_count": null,
            "_view_module": "@jupyter-widgets/base",
            "_view_module_version": "1.2.0",
            "_view_name": "LayoutView",
            "align_content": null,
            "align_items": null,
            "align_self": null,
            "border": null,
            "bottom": null,
            "display": null,
            "flex": null,
            "flex_flow": null,
            "grid_area": null,
            "grid_auto_columns": null,
            "grid_auto_flow": null,
            "grid_auto_rows": null,
            "grid_column": null,
            "grid_gap": null,
            "grid_row": null,
            "grid_template_areas": null,
            "grid_template_columns": null,
            "grid_template_rows": null,
            "height": null,
            "justify_content": null,
            "justify_items": null,
            "left": null,
            "margin": null,
            "max_height": null,
            "max_width": null,
            "min_height": null,
            "min_width": null,
            "object_fit": null,
            "object_position": null,
            "order": null,
            "overflow": null,
            "overflow_x": null,
            "overflow_y": null,
            "padding": null,
            "right": null,
            "top": null,
            "visibility": null,
            "width": null
          }
        },
        "d023b88b5b2b4eaa873a1486b8d60209": {
          "model_module": "@jupyter-widgets/controls",
          "model_module_version": "1.5.0",
          "model_name": "HTMLModel",
          "state": {
            "_dom_classes": [],
            "_model_module": "@jupyter-widgets/controls",
            "_model_module_version": "1.5.0",
            "_model_name": "HTMLModel",
            "_view_count": null,
            "_view_module": "@jupyter-widgets/controls",
            "_view_module_version": "1.5.0",
            "_view_name": "HTMLView",
            "description": "",
            "description_tooltip": null,
            "layout": "IPY_MODEL_67823214724046f58b19fd734ae46287",
            "placeholder": "​",
            "style": "IPY_MODEL_5f4418808bf14e2ca7e1e4b80768d997",
            "value": "Generating test split: 100%"
          }
        },
        "d2b1c05bcee04a7fb4f4b46d10602a56": {
          "model_module": "@jupyter-widgets/controls",
          "model_module_version": "1.5.0",
          "model_name": "HBoxModel",
          "state": {
            "_dom_classes": [],
            "_model_module": "@jupyter-widgets/controls",
            "_model_module_version": "1.5.0",
            "_model_name": "HBoxModel",
            "_view_count": null,
            "_view_module": "@jupyter-widgets/controls",
            "_view_module_version": "1.5.0",
            "_view_name": "HBoxView",
            "box_style": "",
            "children": [
              "IPY_MODEL_5396007d013e48d6a6de4309161ffe5d",
              "IPY_MODEL_d900e77ef6ed4337b65778b8963efc32",
              "IPY_MODEL_ed9fab63cc6546c48d74faa29f6d3aa7"
            ],
            "layout": "IPY_MODEL_661a20ff3c6b4701b84149ad873563c6"
          }
        },
        "d2b8858a61f24afa9f88b52f5699e47d": {
          "model_module": "@jupyter-widgets/controls",
          "model_module_version": "1.5.0",
          "model_name": "ProgressStyleModel",
          "state": {
            "_model_module": "@jupyter-widgets/controls",
            "_model_module_version": "1.5.0",
            "_model_name": "ProgressStyleModel",
            "_view_count": null,
            "_view_module": "@jupyter-widgets/base",
            "_view_module_version": "1.2.0",
            "_view_name": "StyleView",
            "bar_color": null,
            "description_width": ""
          }
        },
        "d41c92abd9ef457c9f57502f4ab30f90": {
          "model_module": "@jupyter-widgets/base",
          "model_module_version": "1.2.0",
          "model_name": "LayoutModel",
          "state": {
            "_model_module": "@jupyter-widgets/base",
            "_model_module_version": "1.2.0",
            "_model_name": "LayoutModel",
            "_view_count": null,
            "_view_module": "@jupyter-widgets/base",
            "_view_module_version": "1.2.0",
            "_view_name": "LayoutView",
            "align_content": null,
            "align_items": null,
            "align_self": null,
            "border": null,
            "bottom": null,
            "display": null,
            "flex": null,
            "flex_flow": null,
            "grid_area": null,
            "grid_auto_columns": null,
            "grid_auto_flow": null,
            "grid_auto_rows": null,
            "grid_column": null,
            "grid_gap": null,
            "grid_row": null,
            "grid_template_areas": null,
            "grid_template_columns": null,
            "grid_template_rows": null,
            "height": null,
            "justify_content": null,
            "justify_items": null,
            "left": null,
            "margin": null,
            "max_height": null,
            "max_width": null,
            "min_height": null,
            "min_width": null,
            "object_fit": null,
            "object_position": null,
            "order": null,
            "overflow": null,
            "overflow_x": null,
            "overflow_y": null,
            "padding": null,
            "right": null,
            "top": null,
            "visibility": null,
            "width": null
          }
        },
        "d900e77ef6ed4337b65778b8963efc32": {
          "model_module": "@jupyter-widgets/controls",
          "model_module_version": "1.5.0",
          "model_name": "FloatProgressModel",
          "state": {
            "_dom_classes": [],
            "_model_module": "@jupyter-widgets/controls",
            "_model_module_version": "1.5.0",
            "_model_name": "FloatProgressModel",
            "_view_count": null,
            "_view_module": "@jupyter-widgets/controls",
            "_view_module_version": "1.5.0",
            "_view_name": "ProgressView",
            "bar_style": "success",
            "description": "",
            "description_tooltip": null,
            "layout": "IPY_MODEL_70825c714aa048a4813f2dd5ccbfbb9d",
            "max": 120000,
            "min": 0,
            "orientation": "horizontal",
            "style": "IPY_MODEL_07c897c786004c77b9cc85b92a11d537",
            "value": 120000
          }
        },
        "d9d3feccc1a749a39118accdf14c242d": {
          "model_module": "@jupyter-widgets/base",
          "model_module_version": "1.2.0",
          "model_name": "LayoutModel",
          "state": {
            "_model_module": "@jupyter-widgets/base",
            "_model_module_version": "1.2.0",
            "_model_name": "LayoutModel",
            "_view_count": null,
            "_view_module": "@jupyter-widgets/base",
            "_view_module_version": "1.2.0",
            "_view_name": "LayoutView",
            "align_content": null,
            "align_items": null,
            "align_self": null,
            "border": null,
            "bottom": null,
            "display": null,
            "flex": null,
            "flex_flow": null,
            "grid_area": null,
            "grid_auto_columns": null,
            "grid_auto_flow": null,
            "grid_auto_rows": null,
            "grid_column": null,
            "grid_gap": null,
            "grid_row": null,
            "grid_template_areas": null,
            "grid_template_columns": null,
            "grid_template_rows": null,
            "height": null,
            "justify_content": null,
            "justify_items": null,
            "left": null,
            "margin": null,
            "max_height": null,
            "max_width": null,
            "min_height": null,
            "min_width": null,
            "object_fit": null,
            "object_position": null,
            "order": null,
            "overflow": null,
            "overflow_x": null,
            "overflow_y": null,
            "padding": null,
            "right": null,
            "top": null,
            "visibility": null,
            "width": null
          }
        },
        "db7205ad91174646bab4cbb19f2b68f0": {
          "model_module": "@jupyter-widgets/controls",
          "model_module_version": "1.5.0",
          "model_name": "DescriptionStyleModel",
          "state": {
            "_model_module": "@jupyter-widgets/controls",
            "_model_module_version": "1.5.0",
            "_model_name": "DescriptionStyleModel",
            "_view_count": null,
            "_view_module": "@jupyter-widgets/base",
            "_view_module_version": "1.2.0",
            "_view_name": "StyleView",
            "description_width": ""
          }
        },
        "e29e5d9f7deb43f4bbffa025f5188ed2": {
          "model_module": "@jupyter-widgets/controls",
          "model_module_version": "1.5.0",
          "model_name": "DescriptionStyleModel",
          "state": {
            "_model_module": "@jupyter-widgets/controls",
            "_model_module_version": "1.5.0",
            "_model_name": "DescriptionStyleModel",
            "_view_count": null,
            "_view_module": "@jupyter-widgets/base",
            "_view_module_version": "1.2.0",
            "_view_name": "StyleView",
            "description_width": ""
          }
        },
        "eca7f5057dc74c7f8a1b4d69192e3d0a": {
          "model_module": "@jupyter-widgets/base",
          "model_module_version": "1.2.0",
          "model_name": "LayoutModel",
          "state": {
            "_model_module": "@jupyter-widgets/base",
            "_model_module_version": "1.2.0",
            "_model_name": "LayoutModel",
            "_view_count": null,
            "_view_module": "@jupyter-widgets/base",
            "_view_module_version": "1.2.0",
            "_view_name": "LayoutView",
            "align_content": null,
            "align_items": null,
            "align_self": null,
            "border": null,
            "bottom": null,
            "display": null,
            "flex": null,
            "flex_flow": null,
            "grid_area": null,
            "grid_auto_columns": null,
            "grid_auto_flow": null,
            "grid_auto_rows": null,
            "grid_column": null,
            "grid_gap": null,
            "grid_row": null,
            "grid_template_areas": null,
            "grid_template_columns": null,
            "grid_template_rows": null,
            "height": null,
            "justify_content": null,
            "justify_items": null,
            "left": null,
            "margin": null,
            "max_height": null,
            "max_width": null,
            "min_height": null,
            "min_width": null,
            "object_fit": null,
            "object_position": null,
            "order": null,
            "overflow": null,
            "overflow_x": null,
            "overflow_y": null,
            "padding": null,
            "right": null,
            "top": null,
            "visibility": null,
            "width": null
          }
        },
        "ed9fab63cc6546c48d74faa29f6d3aa7": {
          "model_module": "@jupyter-widgets/controls",
          "model_module_version": "1.5.0",
          "model_name": "HTMLModel",
          "state": {
            "_dom_classes": [],
            "_model_module": "@jupyter-widgets/controls",
            "_model_module_version": "1.5.0",
            "_model_name": "HTMLModel",
            "_view_count": null,
            "_view_module": "@jupyter-widgets/controls",
            "_view_module_version": "1.5.0",
            "_view_name": "HTMLView",
            "description": "",
            "description_tooltip": null,
            "layout": "IPY_MODEL_4664bd72f04f46ecb5cc6348143119f3",
            "placeholder": "​",
            "style": "IPY_MODEL_b02463ee5a144620b82f5c9c387c26e1",
            "value": " 120000/120000 [00:00&lt;00:00, 254667.98 examples/s]"
          }
        },
        "eec8b2fa9af14572b34fe6ee925451c9": {
          "model_module": "@jupyter-widgets/base",
          "model_module_version": "1.2.0",
          "model_name": "LayoutModel",
          "state": {
            "_model_module": "@jupyter-widgets/base",
            "_model_module_version": "1.2.0",
            "_model_name": "LayoutModel",
            "_view_count": null,
            "_view_module": "@jupyter-widgets/base",
            "_view_module_version": "1.2.0",
            "_view_name": "LayoutView",
            "align_content": null,
            "align_items": null,
            "align_self": null,
            "border": null,
            "bottom": null,
            "display": null,
            "flex": null,
            "flex_flow": null,
            "grid_area": null,
            "grid_auto_columns": null,
            "grid_auto_flow": null,
            "grid_auto_rows": null,
            "grid_column": null,
            "grid_gap": null,
            "grid_row": null,
            "grid_template_areas": null,
            "grid_template_columns": null,
            "grid_template_rows": null,
            "height": null,
            "justify_content": null,
            "justify_items": null,
            "left": null,
            "margin": null,
            "max_height": null,
            "max_width": null,
            "min_height": null,
            "min_width": null,
            "object_fit": null,
            "object_position": null,
            "order": null,
            "overflow": null,
            "overflow_x": null,
            "overflow_y": null,
            "padding": null,
            "right": null,
            "top": null,
            "visibility": null,
            "width": null
          }
        },
        "f2f1f72f2adc44a99db0d77d23fb38a5": {
          "model_module": "@jupyter-widgets/controls",
          "model_module_version": "1.5.0",
          "model_name": "HBoxModel",
          "state": {
            "_dom_classes": [],
            "_model_module": "@jupyter-widgets/controls",
            "_model_module_version": "1.5.0",
            "_model_name": "HBoxModel",
            "_view_count": null,
            "_view_module": "@jupyter-widgets/controls",
            "_view_module_version": "1.5.0",
            "_view_name": "HBoxView",
            "box_style": "",
            "children": [
              "IPY_MODEL_4bec9aba29924ee3afa2cafac7184651",
              "IPY_MODEL_62f8fba7f0114ce8b19e47c3e9d84f90",
              "IPY_MODEL_50fb2835a4fc4b3f94ddb894435235cc"
            ],
            "layout": "IPY_MODEL_f8bcbf6b7d5149a3b32be1eb400f54d4"
          }
        },
        "f8bcbf6b7d5149a3b32be1eb400f54d4": {
          "model_module": "@jupyter-widgets/base",
          "model_module_version": "1.2.0",
          "model_name": "LayoutModel",
          "state": {
            "_model_module": "@jupyter-widgets/base",
            "_model_module_version": "1.2.0",
            "_model_name": "LayoutModel",
            "_view_count": null,
            "_view_module": "@jupyter-widgets/base",
            "_view_module_version": "1.2.0",
            "_view_name": "LayoutView",
            "align_content": null,
            "align_items": null,
            "align_self": null,
            "border": null,
            "bottom": null,
            "display": null,
            "flex": null,
            "flex_flow": null,
            "grid_area": null,
            "grid_auto_columns": null,
            "grid_auto_flow": null,
            "grid_auto_rows": null,
            "grid_column": null,
            "grid_gap": null,
            "grid_row": null,
            "grid_template_areas": null,
            "grid_template_columns": null,
            "grid_template_rows": null,
            "height": null,
            "justify_content": null,
            "justify_items": null,
            "left": null,
            "margin": null,
            "max_height": null,
            "max_width": null,
            "min_height": null,
            "min_width": null,
            "object_fit": null,
            "object_position": null,
            "order": null,
            "overflow": null,
            "overflow_x": null,
            "overflow_y": null,
            "padding": null,
            "right": null,
            "top": null,
            "visibility": null,
            "width": null
          }
        },
        "fb1f185bf5714d7ea28fdef776e86229": {
          "model_module": "@jupyter-widgets/controls",
          "model_module_version": "1.5.0",
          "model_name": "ProgressStyleModel",
          "state": {
            "_model_module": "@jupyter-widgets/controls",
            "_model_module_version": "1.5.0",
            "_model_name": "ProgressStyleModel",
            "_view_count": null,
            "_view_module": "@jupyter-widgets/base",
            "_view_module_version": "1.2.0",
            "_view_name": "StyleView",
            "bar_color": null,
            "description_width": ""
          }
        },
        "fd12ff751d464f45925c447cdb92559c": {
          "model_module": "@jupyter-widgets/base",
          "model_module_version": "1.2.0",
          "model_name": "LayoutModel",
          "state": {
            "_model_module": "@jupyter-widgets/base",
            "_model_module_version": "1.2.0",
            "_model_name": "LayoutModel",
            "_view_count": null,
            "_view_module": "@jupyter-widgets/base",
            "_view_module_version": "1.2.0",
            "_view_name": "LayoutView",
            "align_content": null,
            "align_items": null,
            "align_self": null,
            "border": null,
            "bottom": null,
            "display": null,
            "flex": null,
            "flex_flow": null,
            "grid_area": null,
            "grid_auto_columns": null,
            "grid_auto_flow": null,
            "grid_auto_rows": null,
            "grid_column": null,
            "grid_gap": null,
            "grid_row": null,
            "grid_template_areas": null,
            "grid_template_columns": null,
            "grid_template_rows": null,
            "height": null,
            "justify_content": null,
            "justify_items": null,
            "left": null,
            "margin": null,
            "max_height": null,
            "max_width": null,
            "min_height": null,
            "min_width": null,
            "object_fit": null,
            "object_position": null,
            "order": null,
            "overflow": null,
            "overflow_x": null,
            "overflow_y": null,
            "padding": null,
            "right": null,
            "top": null,
            "visibility": null,
            "width": null
          }
        }
      }
    }
  },
  "nbformat": 4,
  "nbformat_minor": 0
}
